{
 "cells": [
  {
   "cell_type": "code",
   "execution_count": 1,
   "id": "8e7a541d",
   "metadata": {},
   "outputs": [],
   "source": [
    "import random\n",
    "\n",
    "import cv2\n",
    "import numpy as np"
   ]
  },
  {
   "cell_type": "markdown",
   "id": "0ca3fdad",
   "metadata": {},
   "source": [
    "Download images from directory."
   ]
  },
  {
   "cell_type": "code",
   "execution_count": 2,
   "id": "1cd21a9e",
   "metadata": {},
   "outputs": [],
   "source": [
    "from image import read_image, show_image"
   ]
  },
  {
   "cell_type": "code",
   "execution_count": 3,
   "id": "429b24aa",
   "metadata": {},
   "outputs": [],
   "source": [
    "images, image_names = read_image(\"InputImages\")"
   ]
  },
  {
   "cell_type": "code",
   "execution_count": 4,
   "id": "8fc9231e",
   "metadata": {},
   "outputs": [
    {
     "data": {
      "text/plain": [
       "'1633601797_20-p-foto-doma-snizu-vverkh-foto-33.jpg'"
      ]
     },
     "execution_count": 4,
     "metadata": {},
     "output_type": "execute_result"
    }
   ],
   "source": [
    "image_num = 1\n",
    "image = images[image_num]\n",
    "image_names[image_num]"
   ]
  },
  {
   "cell_type": "code",
   "execution_count": 5,
   "id": "c7a7f506",
   "metadata": {},
   "outputs": [],
   "source": [
    "show_image(\"OutputImage\", image)"
   ]
  },
  {
   "cell_type": "markdown",
   "id": "1725fdd4",
   "metadata": {},
   "source": [
    "# Finding Vanishing Points"
   ]
  },
  {
   "cell_type": "code",
   "execution_count": 6,
   "id": "57d17ea0",
   "metadata": {},
   "outputs": [],
   "source": [
    "from line import get_lines, draw_line"
   ]
  },
  {
   "cell_type": "code",
   "execution_count": 7,
   "id": "5566ee31",
   "metadata": {},
   "outputs": [
    {
     "data": {
      "text/plain": [
       "714"
      ]
     },
     "execution_count": 7,
     "metadata": {},
     "output_type": "execute_result"
    }
   ],
   "source": [
    "lines = get_lines(image)\n",
    "len(lines)"
   ]
  },
  {
   "cell_type": "markdown",
   "id": "65e9ee4c",
   "metadata": {},
   "source": [
    "Plot lines."
   ]
  },
  {
   "cell_type": "code",
   "execution_count": 11,
   "id": "fc0866b3",
   "metadata": {},
   "outputs": [],
   "source": [
    "ouput_image = image.copy()\n",
    "# Getting the lines form the image\n",
    "for line in lines:\n",
    "    r = random.randint(0, 256)\n",
    "    g = random.randint(0, 256)\n",
    "    b = random.randint(0, 256)\n",
    "    draw_line(ouput_image, line, (r, g, b))\n",
    "show_image(\"OutputImage\", ouput_image)"
   ]
  },
  {
   "cell_type": "markdown",
   "id": "08515182",
   "metadata": {},
   "source": [
    "Cluster lines to find vanishing points."
   ]
  },
  {
   "cell_type": "code",
   "execution_count": null,
   "id": "554e81af",
   "metadata": {},
   "outputs": [],
   "source": [
    "from clustering import cluster_lines"
   ]
  },
  {
   "cell_type": "code",
   "execution_count": null,
   "id": "6daffe20",
   "metadata": {},
   "outputs": [],
   "source": [
    "n_clusters = 3"
   ]
  },
  {
   "cell_type": "code",
   "execution_count": null,
   "id": "f7271bba",
   "metadata": {},
   "outputs": [],
   "source": [
    "clusters = cluster_lines(lines, n_clusters=n_clusters)\n",
    "clusters"
   ]
  },
  {
   "cell_type": "markdown",
   "id": "35694be3",
   "metadata": {},
   "source": [
    "Show image with clustered lines and find vanishing points."
   ]
  },
  {
   "cell_type": "code",
   "execution_count": null,
   "id": "2ecb5d12",
   "metadata": {},
   "outputs": [],
   "source": [
    "from homography import get_vanishing_point, get_distant_points"
   ]
  },
  {
   "cell_type": "code",
   "execution_count": null,
   "id": "72fd8e49",
   "metadata": {},
   "outputs": [],
   "source": [
    "vanishing_points = [get_vanishing_point(clusters[c]) for c in clusters]\n",
    "vanishing_points"
   ]
  },
  {
   "cell_type": "code",
   "execution_count": null,
   "id": "0ed3d9a9",
   "metadata": {},
   "outputs": [],
   "source": [
    "colors = [(random.randint(0, 256), random.randint(0, 256), random.randint(0, 256)) for _ in range(n_clusters)]\n",
    "\n",
    "output_image = image.copy()\n",
    "for c in clusters:\n",
    "    vp = vanishing_points[c]\n",
    "    print(vp, colors[c])\n",
    "    for i, line in enumerate(clusters[c]):\n",
    "        draw_line(output_image, line, colors[c])\n",
    "    cv2.circle(output_image, (int(vp[0]), int(vp[1])), 10, colors[c], -1)\n",
    "\n",
    "show_image(\"OutputImage\", output_image)  "
   ]
  },
  {
   "cell_type": "code",
   "execution_count": null,
   "id": "5894671f",
   "metadata": {},
   "outputs": [],
   "source": [
    "two_points, _ = get_distant_points(vanishing_points)\n",
    "two_points"
   ]
  },
  {
   "cell_type": "markdown",
   "id": "26a8a206",
   "metadata": {},
   "source": [
    "# Estimate intrinsic camera properties"
   ]
  },
  {
   "cell_type": "code",
   "execution_count": null,
   "id": "a6012dfb",
   "metadata": {},
   "outputs": [],
   "source": [
    "width, height, _ = image.shape"
   ]
  },
  {
   "cell_type": "code",
   "execution_count": null,
   "id": "e8331685",
   "metadata": {},
   "outputs": [],
   "source": [
    "diagonal = np.sqrt(width ** 2 + height ** 2)"
   ]
  },
  {
   "cell_type": "code",
   "execution_count": null,
   "id": "ed98ae7f",
   "metadata": {},
   "outputs": [],
   "source": [
    "f_x = f_y = 0.75 * diagonal"
   ]
  },
  {
   "cell_type": "code",
   "execution_count": null,
   "id": "8e1ee9f8",
   "metadata": {},
   "outputs": [],
   "source": [
    "c_x = width / 2\n",
    "c_y = width / 2"
   ]
  },
  {
   "cell_type": "code",
   "execution_count": null,
   "id": "03977ac2",
   "metadata": {},
   "outputs": [],
   "source": [
    "K = np.array([\n",
    "    [f_x, 0, c_x],\n",
    "    [0, f_y, c_y],\n",
    "    [0, 0, 1],\n",
    "])"
   ]
  },
  {
   "cell_type": "code",
   "execution_count": null,
   "id": "2e6dde3d",
   "metadata": {},
   "outputs": [],
   "source": [
    "# Estimate intrinsic camera properties\n",
    "\n",
    "width, height, _ = image.shape\n",
    "\n",
    "diagonal = np.sqrt(width ** 2 + height ** 2)\n",
    "\n",
    "f_x = f_y = 0.75 * diagonal\n",
    "\n",
    "c_x = width / 2\n",
    "c_y = width / 2\n",
    "\n",
    "K = np.array([\n",
    "    [f_x, 0, c_x],\n",
    "    [0, f_y, c_y],\n",
    "    [0, 0, 1],\n",
    "])"
   ]
  },
  {
   "cell_type": "markdown",
   "id": "d95b4798",
   "metadata": {},
   "source": [
    "# Calculate Homography"
   ]
  },
  {
   "cell_type": "code",
   "execution_count": null,
   "id": "379ae429",
   "metadata": {},
   "outputs": [],
   "source": [
    "V_h = np.linalg.inv(K) @ [*two_points[0], 1]\n",
    "V_v = np.linalg.inv(K) @ [*two_points[1], 1]\n",
    "V_h, V_v"
   ]
  },
  {
   "cell_type": "code",
   "execution_count": null,
   "id": "daefaef3",
   "metadata": {},
   "outputs": [],
   "source": [
    "CX = V_h / np.linalg.norm(V_h)\n",
    "CY = V_v / np.linalg.norm(V_v)\n",
    "CX, CY"
   ]
  },
  {
   "cell_type": "code",
   "execution_count": null,
   "id": "e69f437e",
   "metadata": {},
   "outputs": [],
   "source": [
    "CZ = np.cross(CX, CY)\n",
    "CZ"
   ]
  },
  {
   "cell_type": "code",
   "execution_count": null,
   "id": "47b3f68f",
   "metadata": {},
   "outputs": [],
   "source": [
    "if CZ[2] < 0:\n",
    "    CY = -1 * CY\n",
    "    CZ = -1 * CZ"
   ]
  },
  {
   "cell_type": "code",
   "execution_count": null,
   "id": "01df7351",
   "metadata": {},
   "outputs": [],
   "source": [
    "if abs(CX.dot(CY)) > 0.1:\n",
    "    CYY = np.cross(CZ, CX)\n",
    "else:\n",
    "    CYY = CY"
   ]
  },
  {
   "cell_type": "code",
   "execution_count": null,
   "id": "3207cb5d",
   "metadata": {},
   "outputs": [],
   "source": [
    "R = np.array([\n",
    "    CX, CYY, CZ,\n",
    "])\n",
    "R"
   ]
  },
  {
   "cell_type": "code",
   "execution_count": null,
   "id": "969337bf",
   "metadata": {},
   "outputs": [],
   "source": [
    "beta = np.arcsin(\n",
    "    np.linalg.norm(np.cross(CX, CYY)) / (\n",
    "    np.linalg.norm(CX) * np.linalg.norm(CYY)\n",
    "    )\n",
    ")\n",
    "beta"
   ]
  },
  {
   "cell_type": "code",
   "execution_count": null,
   "id": "2adaf248",
   "metadata": {},
   "outputs": [],
   "source": [
    "A = np.array([\n",
    "    [1, -np.cos(beta)/np.sin(beta), 0],\n",
    "    [0, 1/np.sin(beta), 0],\n",
    "    [0, 0, 1],\n",
    "])\n",
    "A"
   ]
  },
  {
   "cell_type": "code",
   "execution_count": null,
   "id": "dd6e6785",
   "metadata": {},
   "outputs": [],
   "source": [
    "H = K @ A @ R @ np.linalg.inv(K)\n",
    "H"
   ]
  },
  {
   "cell_type": "code",
   "execution_count": null,
   "id": "b139d7b7",
   "metadata": {},
   "outputs": [],
   "source": [
    "output_image = cv2.warpPerspective(image, H, (image.shape[1], image.shape[0] * 5))"
   ]
  },
  {
   "cell_type": "code",
   "execution_count": null,
   "id": "33e09e79",
   "metadata": {},
   "outputs": [],
   "source": [
    "show_image(\"OutputImage\", output_image)"
   ]
  },
  {
   "cell_type": "code",
   "execution_count": null,
   "id": "ed26e1fb",
   "metadata": {},
   "outputs": [],
   "source": []
  }
 ],
 "metadata": {
  "kernelspec": {
   "display_name": "Python 3 (ipykernel)",
   "language": "python",
   "name": "python3"
  },
  "language_info": {
   "codemirror_mode": {
    "name": "ipython",
    "version": 3
   },
   "file_extension": ".py",
   "mimetype": "text/x-python",
   "name": "python",
   "nbconvert_exporter": "python",
   "pygments_lexer": "ipython3",
   "version": "3.9.6"
  }
 },
 "nbformat": 4,
 "nbformat_minor": 5
}
