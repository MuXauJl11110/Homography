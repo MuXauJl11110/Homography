{
 "cells": [
  {
   "cell_type": "code",
   "execution_count": 1,
   "id": "3cd48d5a",
   "metadata": {},
   "outputs": [],
   "source": [
    "import random\n",
    "\n",
    "import cv2\n",
    "import numpy as np"
   ]
  },
  {
   "cell_type": "markdown",
   "id": "0ca3fdad",
   "metadata": {},
   "source": [
    "Download images from directory."
   ]
  },
  {
   "cell_type": "code",
   "execution_count": 2,
   "id": "1cd21a9e",
   "metadata": {},
   "outputs": [],
   "source": [
    "from image import read_image, show_image"
   ]
  },
  {
   "cell_type": "code",
   "execution_count": 3,
   "id": "429b24aa",
   "metadata": {},
   "outputs": [],
   "source": [
    "images, image_names = read_image(\"InputImages\")"
   ]
  },
  {
   "cell_type": "code",
   "execution_count": 4,
   "id": "8fc9231e",
   "metadata": {},
   "outputs": [
    {
     "data": {
      "text/plain": [
       "'1633601732_6-p-foto-doma-snizu-vverkh-foto-6.jpg'"
      ]
     },
     "execution_count": 4,
     "metadata": {},
     "output_type": "execute_result"
    }
   ],
   "source": [
    "image_num = 0\n",
    "image = images[image_num]\n",
    "image_names[image_num]"
   ]
  },
  {
   "cell_type": "code",
   "execution_count": 5,
   "id": "c7a7f506",
   "metadata": {},
   "outputs": [],
   "source": [
    "show_image(\"OutputImage\", image)"
   ]
  },
  {
   "cell_type": "markdown",
   "id": "81d1ab39",
   "metadata": {},
   "source": [
    "# Stratification"
   ]
  },
  {
   "cell_type": "markdown",
   "id": "d92c6cff",
   "metadata": {},
   "source": [
    "Get lines from the image."
   ]
  },
  {
   "cell_type": "code",
   "execution_count": 8,
   "id": "670f225c",
   "metadata": {},
   "outputs": [],
   "source": [
    "from line import get_lines, draw_line"
   ]
  },
  {
   "cell_type": "code",
   "execution_count": 9,
   "id": "6ad88315",
   "metadata": {},
   "outputs": [
    {
     "data": {
      "text/plain": [
       "40"
      ]
     },
     "execution_count": 9,
     "metadata": {},
     "output_type": "execute_result"
    }
   ],
   "source": [
    "lines = get_lines(image)\n",
    "len(lines)"
   ]
  },
  {
   "cell_type": "markdown",
   "id": "65e9ee4c",
   "metadata": {},
   "source": [
    "Plot lines."
   ]
  },
  {
   "cell_type": "code",
   "execution_count": 10,
   "id": "fc0866b3",
   "metadata": {},
   "outputs": [],
   "source": [
    "ouput_image = image.copy()\n",
    "# Getting the lines form the image\n",
    "for line in lines:\n",
    "    r = random.randint(0, 256)\n",
    "    g = random.randint(0, 256)\n",
    "    b = random.randint(0, 256)\n",
    "    draw_line(ouput_image, line, (r, g, b))\n",
    "show_image(\"OutputImage\", ouput_image)"
   ]
  },
  {
   "cell_type": "markdown",
   "id": "08515182",
   "metadata": {},
   "source": [
    "Cluster lines to find vanishing points."
   ]
  },
  {
   "cell_type": "code",
   "execution_count": 11,
   "id": "554e81af",
   "metadata": {},
   "outputs": [],
   "source": [
    "from clustering import cluster_lines"
   ]
  },
  {
   "cell_type": "code",
   "execution_count": 19,
   "id": "6daffe20",
   "metadata": {},
   "outputs": [],
   "source": [
    "n_clusters = 4"
   ]
  },
  {
   "cell_type": "code",
   "execution_count": 20,
   "id": "f7271bba",
   "metadata": {},
   "outputs": [
    {
     "data": {
      "text/plain": [
       "defaultdict(list,\n",
       "            {1: [array([[443.        ,   0.75049156]], dtype=float32),\n",
       "              array([[261.       ,   0.6981317]], dtype=float32),\n",
       "              array([[245.       ,   0.6806784]], dtype=float32),\n",
       "              array([[569.       ,   0.7853982]], dtype=float32),\n",
       "              array([[361.      ,   0.715585]], dtype=float32),\n",
       "              array([[260.       ,   0.6806784]], dtype=float32),\n",
       "              array([[363.       ,   0.7330383]], dtype=float32),\n",
       "              array([[306.      ,   0.715585]], dtype=float32),\n",
       "              array([[585.       ,   0.7853982]], dtype=float32),\n",
       "              array([[532.       ,   0.7853982]], dtype=float32),\n",
       "              array([[303.       ,   0.6981317]], dtype=float32),\n",
       "              array([[254.       ,   0.6981317]], dtype=float32)],\n",
       "             2: [array([[-34.       ,   2.2340214]], dtype=float32),\n",
       "              array([[-92.       ,   2.2514746]], dtype=float32),\n",
       "              array([[40.       ,  2.2165682]], dtype=float32),\n",
       "              array([[-109.       ,    2.2514746]], dtype=float32),\n",
       "              array([[799.       ,   1.5707964]], dtype=float32),\n",
       "              array([[308.      ,   2.146755]], dtype=float32),\n",
       "              array([[151.       ,   2.1816616]], dtype=float32)],\n",
       "             0: [array([[-288.       ,    3.0368729]], dtype=float32),\n",
       "              array([[-278.       ,    3.0717795]], dtype=float32),\n",
       "              array([[-342.       ,    2.8972466]], dtype=float32),\n",
       "              array([[-296.       ,    3.0368729]], dtype=float32),\n",
       "              array([[-350.       ,    2.8797932]], dtype=float32),\n",
       "              array([[-292.       ,    3.0194197]], dtype=float32),\n",
       "              array([[-291.      ,    3.054326]], dtype=float32),\n",
       "              array([[-284.      ,    3.054326]], dtype=float32),\n",
       "              array([[-302.       ,    3.0194197]], dtype=float32),\n",
       "              array([[-286.       ,    3.0717795]], dtype=float32),\n",
       "              array([[-346.       ,    2.8972466]], dtype=float32),\n",
       "              array([[-354.       ,    2.8797932]], dtype=float32),\n",
       "              array([[-353.     ,    2.86234]], dtype=float32),\n",
       "              array([[-341.       ,    2.8797932]], dtype=float32),\n",
       "              array([[-357.     ,    2.86234]], dtype=float32),\n",
       "              array([[-337.       ,    2.8972466]], dtype=float32),\n",
       "              array([[-289.       ,    3.0717795]], dtype=float32)],\n",
       "             3: [array([[2.3900000e+02, 1.7453292e-02]], dtype=float32),\n",
       "              array([[2.4700000e+02, 1.7453292e-02]], dtype=float32),\n",
       "              array([[2.4100000e+02, 1.7453292e-02]], dtype=float32),\n",
       "              array([[1.8300000e+02, 1.7453292e-01]], dtype=float32)]})"
      ]
     },
     "execution_count": 20,
     "metadata": {},
     "output_type": "execute_result"
    }
   ],
   "source": [
    "clusters = cluster_lines(lines, n_clusters=n_clusters)\n",
    "clusters"
   ]
  },
  {
   "cell_type": "markdown",
   "id": "35694be3",
   "metadata": {},
   "source": [
    "Show image with clustered lines and find vanishing points."
   ]
  },
  {
   "cell_type": "code",
   "execution_count": 21,
   "id": "2ecb5d12",
   "metadata": {},
   "outputs": [],
   "source": [
    "from homography import get_vanishing_point, get_nearest_points"
   ]
  },
  {
   "cell_type": "code",
   "execution_count": 22,
   "id": "8819e5ff",
   "metadata": {},
   "outputs": [
    {
     "data": {
      "text/plain": [
       "[array([-18528.059, -12603.677], dtype=float32),\n",
       " array([-1668.4064,  8764.042 ], dtype=float32),\n",
       " array([-1087.7777,  -159.3853], dtype=float32),\n",
       " array([2662628.8 ,  256002.77], dtype=float32)]"
      ]
     },
     "execution_count": 22,
     "metadata": {},
     "output_type": "execute_result"
    }
   ],
   "source": [
    "vanishing_points = [get_vanishing_point(clusters[c]) for c in clusters]\n",
    "vanishing_points"
   ]
  },
  {
   "cell_type": "code",
   "execution_count": 23,
   "id": "da21a757",
   "metadata": {},
   "outputs": [],
   "source": [
    "colors = [(random.randint(0, 256), random.randint(0, 256), random.randint(0, 256)) for _ in range(n_clusters)]\n",
    "\n",
    "output_image = image.copy()\n",
    "for c in clusters:\n",
    "    vp = vanishing_points[c]\n",
    "    for i, line in enumerate(clusters[c]):\n",
    "        draw_line(output_image, line, colors[c])\n",
    "    cv2.circle(output_image, (int(vp[0]), int(vp[1])), 10, colors[c], -1)\n",
    "\n",
    "show_image(\"OutputImage\", output_image) "
   ]
  },
  {
   "cell_type": "code",
   "execution_count": 24,
   "id": "c7fdf781",
   "metadata": {},
   "outputs": [
    {
     "data": {
      "text/plain": [
       "[array([-1668.4064,  8764.042 ], dtype=float32),\n",
       " array([-1087.7777,  -159.3853], dtype=float32)]"
      ]
     },
     "execution_count": 24,
     "metadata": {},
     "output_type": "execute_result"
    }
   ],
   "source": [
    "two_points, _ = get_nearest_points(vanishing_points)\n",
    "two_points"
   ]
  },
  {
   "cell_type": "code",
   "execution_count": 25,
   "id": "6a71e086",
   "metadata": {},
   "outputs": [
    {
     "data": {
      "text/plain": [
       "[-1668.4064, 8764.042, 1]"
      ]
     },
     "execution_count": 25,
     "metadata": {},
     "output_type": "execute_result"
    }
   ],
   "source": [
    "point = [*max(two_points, key = lambda x: np.linalg.norm(x)), 1]\n",
    "point"
   ]
  },
  {
   "cell_type": "code",
   "execution_count": 27,
   "id": "ff0d7faf",
   "metadata": {},
   "outputs": [
    {
     "data": {
      "text/plain": [
       "[-1087.7777, -159.3853, 1]"
      ]
     },
     "execution_count": 27,
     "metadata": {},
     "output_type": "execute_result"
    }
   ],
   "source": [
    "point = [*vanishing_points[2], 1]\n",
    "point"
   ]
  },
  {
   "cell_type": "markdown",
   "id": "ccfa968f",
   "metadata": {},
   "source": [
    "# Test vanishing points search"
   ]
  },
  {
   "cell_type": "code",
   "execution_count": 28,
   "id": "cfd25b6e",
   "metadata": {},
   "outputs": [],
   "source": [
    "from line import get_intersection_point, get_homogeneous_coordinates"
   ]
  },
  {
   "cell_type": "code",
   "execution_count": 29,
   "id": "18009617",
   "metadata": {},
   "outputs": [
    {
     "name": "stdout",
     "output_type": "stream",
     "text": [
      "[-2039.7706, 2836.9482] [0.7313537, 0.6819983, -443.0] [0.76604444, 0.6427876, -261.0]\n",
      "[2639.9976, 2019.4453] [-0.6156615, 0.7880108, 34.0] [-0.6293203, 0.77714604, 92.0]\n",
      "[256.99652, -310.0723] [-0.9945219, 0.104528494, 288.0] [-0.9975641, 0.06975646, 278.0]\n"
     ]
    },
    {
     "name": "stderr",
     "output_type": "stream",
     "text": [
      "/Users/michael/Documents/IITP/Homography/line.py:80: RuntimeWarning: divide by zero encountered in scalar divide\n",
      "  return [a / c, b / c]\n"
     ]
    },
    {
     "name": "stdout",
     "output_type": "stream",
     "text": [
      "[-inf, inf] [0.9998477, 0.017452406, -239.0] [0.9998477, 0.017452406, -247.0]\n"
     ]
    }
   ],
   "source": [
    "output_image = image.copy()\n",
    "for c in clusters:\n",
    "    vp = vanishing_points[c]\n",
    "    for i, line in enumerate(clusters[c][:2]):\n",
    "        draw_line(output_image, line, colors[c])\n",
    "    print(get_intersection_point(*clusters[c][:2]), get_homogeneous_coordinates(clusters[c][0]), get_homogeneous_coordinates(clusters[c][1]))\n",
    "    show_image(\"OutputImage\", output_image)"
   ]
  },
  {
   "cell_type": "markdown",
   "id": "26a8a206",
   "metadata": {},
   "source": [
    "# Estimate intrinsic camera properties"
   ]
  },
  {
   "cell_type": "code",
   "execution_count": 6,
   "id": "a6012dfb",
   "metadata": {},
   "outputs": [],
   "source": [
    "width, height, _ = image.shape"
   ]
  },
  {
   "cell_type": "code",
   "execution_count": 7,
   "id": "e8331685",
   "metadata": {},
   "outputs": [],
   "source": [
    "diagonal = np.sqrt(width ** 2 + height ** 2)"
   ]
  },
  {
   "cell_type": "code",
   "execution_count": 8,
   "id": "ed98ae7f",
   "metadata": {},
   "outputs": [],
   "source": [
    "f_x = f_y = 0.75 * diagonal"
   ]
  },
  {
   "cell_type": "code",
   "execution_count": 9,
   "id": "8e1ee9f8",
   "metadata": {},
   "outputs": [],
   "source": [
    "c_x = width / 2\n",
    "c_y = width / 2"
   ]
  },
  {
   "cell_type": "code",
   "execution_count": 10,
   "id": "03977ac2",
   "metadata": {},
   "outputs": [],
   "source": [
    "K = np.array([\n",
    "    [f_x, 0, c_x],\n",
    "    [0, f_y, c_y],\n",
    "    [0, 0, 1],\n",
    "])"
   ]
  },
  {
   "cell_type": "markdown",
   "id": "84c1576c",
   "metadata": {},
   "source": [
    "# Get rotation in 3d world coordinates"
   ]
  },
  {
   "cell_type": "code",
   "execution_count": 12,
   "id": "22d4c282",
   "metadata": {},
   "outputs": [
    {
     "data": {
      "text/plain": [
       "array([ 0.10877302, -0.16328419,  1.        ])"
      ]
     },
     "execution_count": 12,
     "metadata": {},
     "output_type": "execute_result"
    }
   ],
   "source": [
    "point = np.linalg.inv(K) @ point\n",
    "point"
   ]
  },
  {
   "cell_type": "code",
   "execution_count": 13,
   "id": "b2c5c6e5",
   "metadata": {},
   "outputs": [],
   "source": [
    "target_point = [0, -1, 0]"
   ]
  },
  {
   "cell_type": "code",
   "execution_count": 14,
   "id": "ab359939",
   "metadata": {},
   "outputs": [],
   "source": [
    "# target_point = [1, 0, 0]"
   ]
  },
  {
   "cell_type": "code",
   "execution_count": 15,
   "id": "108ee605",
   "metadata": {},
   "outputs": [],
   "source": [
    "import math"
   ]
  },
  {
   "cell_type": "code",
   "execution_count": 16,
   "id": "88f1ec79",
   "metadata": {},
   "outputs": [],
   "source": [
    "def rotate_along_x(point: np.ndarray, target_point: np.ndarray) -> np.ndarray:\n",
    "    theta_x = math.atan2(target_point[2], target_point[1]) - math.atan2(point[2], point[1])\n",
    "    R_x = np.array([\n",
    "        [1, 0, 0],\n",
    "        [0, np.cos(theta_x), -np.sin(theta_x)],\n",
    "        [0, np.sin(theta_x), np.cos(theta_x)],\n",
    "    ])\n",
    "    \n",
    "    return R_x"
   ]
  },
  {
   "cell_type": "code",
   "execution_count": 17,
   "id": "4fbae324",
   "metadata": {},
   "outputs": [],
   "source": [
    "def rotate_along_y(point: np.ndarray, target_point: np.ndarray) -> np.ndarray:\n",
    "    theta_y = math.atan2(target_point[0], target_point[2]) - math.atan2(point[0], point[2])\n",
    "    R_y = np.array([\n",
    "        [np.cos(theta_y), 0, np.sin(theta_y)],\n",
    "        [0, 1, 0],\n",
    "        [-np.sin(theta_y), 0, np.cos(theta_y)],\n",
    "    ])\n",
    "    \n",
    "    return R_y"
   ]
  },
  {
   "cell_type": "code",
   "execution_count": 18,
   "id": "b9050a11",
   "metadata": {},
   "outputs": [],
   "source": [
    "def rotate_along_z(point: np.ndarray, target_point: np.ndarray) -> np.ndarray:\n",
    "    theta_z = math.atan2(target_point[1], target_point[0]) - math.atan2(point[1], point[0])\n",
    "    R_z = np.array([\n",
    "        [np.cos(theta_z), -np.sin(theta_z), 0],\n",
    "        [np.sin(theta_z), np.cos(theta_z), 0],\n",
    "        [0, 0, 1],\n",
    "    ])\n",
    "    \n",
    "    return R_z"
   ]
  },
  {
   "cell_type": "code",
   "execution_count": 19,
   "id": "9491946e",
   "metadata": {},
   "outputs": [],
   "source": [
    "# R_y = rotate_along_y(point, target_point)\n",
    "# next_point = R_y @ point\n",
    "# next_point"
   ]
  },
  {
   "cell_type": "code",
   "execution_count": 20,
   "id": "06b2fb49",
   "metadata": {},
   "outputs": [],
   "source": [
    "# R_z = rotate_along_z(next_point, target_point)\n",
    "# next_point = R_z @ next_point\n",
    "# next_point"
   ]
  },
  {
   "cell_type": "code",
   "execution_count": 21,
   "id": "724b88bb",
   "metadata": {},
   "outputs": [
    {
     "data": {
      "text/plain": [
       "array([ 2.64765230e-17, -1.96197086e-01,  1.00000000e+00])"
      ]
     },
     "execution_count": 21,
     "metadata": {},
     "output_type": "execute_result"
    }
   ],
   "source": [
    "R_z = rotate_along_z(point, target_point)\n",
    "next_point = R_z @ point\n",
    "next_point"
   ]
  },
  {
   "cell_type": "code",
   "execution_count": 22,
   "id": "ec2be1ee",
   "metadata": {},
   "outputs": [
    {
     "data": {
      "text/plain": [
       "array([ 2.64765230e-17, -1.01906491e+00,  1.11022302e-16])"
      ]
     },
     "execution_count": 22,
     "metadata": {},
     "output_type": "execute_result"
    }
   ],
   "source": [
    "R_x = rotate_along_x(next_point, target_point)\n",
    "next_point = R_x @ next_point\n",
    "next_point"
   ]
  },
  {
   "cell_type": "code",
   "execution_count": 23,
   "id": "c2fe0ff2",
   "metadata": {},
   "outputs": [
    {
     "data": {
      "text/plain": [
       "array([ 0.        , -1.01906491,  0.        ])"
      ]
     },
     "execution_count": 23,
     "metadata": {},
     "output_type": "execute_result"
    }
   ],
   "source": [
    "next_point[abs(next_point) < 1e-13] = 0.0\n",
    "next_point"
   ]
  },
  {
   "cell_type": "code",
   "execution_count": 24,
   "id": "605ffb69",
   "metadata": {},
   "outputs": [
    {
     "data": {
      "text/plain": [
       "array([[ 6.14631788e-01,  8.81077254e-01, -2.34572843e+03],\n",
       "       [-3.24352031e-01,  4.86899791e-01, -4.36185103e+03],\n",
       "       [-1.20896648e-04,  1.81483533e-04,  8.34701895e-02]])"
      ]
     },
     "execution_count": 24,
     "metadata": {},
     "output_type": "execute_result"
    }
   ],
   "source": [
    "H = K @ R_x @ R_z @ np.linalg.inv(K)\n",
    "H"
   ]
  },
  {
   "cell_type": "code",
   "execution_count": 25,
   "id": "65fee617",
   "metadata": {},
   "outputs": [],
   "source": [
    "# H = K @ R_z @ R_y @ np.linalg.inv(K)\n",
    "# H"
   ]
  },
  {
   "cell_type": "code",
   "execution_count": 30,
   "id": "075c91fd",
   "metadata": {},
   "outputs": [],
   "source": [
    "output_image = cv2.warpPerspective(image, H, (image.shape[1] * 3, image.shape[0] * 3))"
   ]
  },
  {
   "cell_type": "code",
   "execution_count": 31,
   "id": "7002007e",
   "metadata": {},
   "outputs": [],
   "source": [
    "show_image(\"OutputImage\", output_image)"
   ]
  },
  {
   "cell_type": "code",
   "execution_count": null,
   "id": "c54c6eca",
   "metadata": {},
   "outputs": [],
   "source": []
  }
 ],
 "metadata": {
  "kernelspec": {
   "display_name": "Python 3 (ipykernel)",
   "language": "python",
   "name": "python3"
  },
  "language_info": {
   "codemirror_mode": {
    "name": "ipython",
    "version": 3
   },
   "file_extension": ".py",
   "mimetype": "text/x-python",
   "name": "python",
   "nbconvert_exporter": "python",
   "pygments_lexer": "ipython3",
   "version": "3.9.6"
  }
 },
 "nbformat": 4,
 "nbformat_minor": 5
}
