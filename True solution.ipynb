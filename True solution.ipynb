{
 "cells": [
  {
   "cell_type": "code",
   "execution_count": 1,
   "id": "3cd48d5a",
   "metadata": {},
   "outputs": [],
   "source": [
    "import random\n",
    "\n",
    "import cv2\n",
    "import numpy as np"
   ]
  },
  {
   "cell_type": "markdown",
   "id": "0ca3fdad",
   "metadata": {},
   "source": [
    "Download images from directory."
   ]
  },
  {
   "cell_type": "code",
   "execution_count": 2,
   "id": "1cd21a9e",
   "metadata": {},
   "outputs": [],
   "source": [
    "from image import read_image, show_image"
   ]
  },
  {
   "cell_type": "code",
   "execution_count": 3,
   "id": "429b24aa",
   "metadata": {},
   "outputs": [],
   "source": [
    "images, image_names = read_image(\"InputImages\")"
   ]
  },
  {
   "cell_type": "code",
   "execution_count": 5,
   "id": "8fc9231e",
   "metadata": {},
   "outputs": [],
   "source": [
    "image = images[0]"
   ]
  },
  {
   "cell_type": "code",
   "execution_count": 6,
   "id": "c7a7f506",
   "metadata": {},
   "outputs": [],
   "source": [
    "show_image(\"OutputImage\", image)"
   ]
  },
  {
   "cell_type": "markdown",
   "id": "81d1ab39",
   "metadata": {},
   "source": [
    "# Stratification"
   ]
  },
  {
   "cell_type": "markdown",
   "id": "d92c6cff",
   "metadata": {},
   "source": [
    "Get lines from the image."
   ]
  },
  {
   "cell_type": "code",
   "execution_count": 7,
   "id": "670f225c",
   "metadata": {},
   "outputs": [],
   "source": [
    "from line import get_lines, draw_line"
   ]
  },
  {
   "cell_type": "code",
   "execution_count": 8,
   "id": "6ad88315",
   "metadata": {},
   "outputs": [
    {
     "data": {
      "text/plain": [
       "40"
      ]
     },
     "execution_count": 8,
     "metadata": {},
     "output_type": "execute_result"
    }
   ],
   "source": [
    "lines = get_lines(image)\n",
    "len(lines)"
   ]
  },
  {
   "cell_type": "markdown",
   "id": "65e9ee4c",
   "metadata": {},
   "source": [
    "Plot lines."
   ]
  },
  {
   "cell_type": "code",
   "execution_count": 10,
   "id": "fc0866b3",
   "metadata": {},
   "outputs": [],
   "source": [
    "ouput_image = image.copy()\n",
    "# Getting the lines form the image\n",
    "for line in lines:\n",
    "    r = random.randint(0, 256)\n",
    "    g = random.randint(0, 256)\n",
    "    b = random.randint(0, 256)\n",
    "    draw_line(ouput_image, line, (r, g, b))\n",
    "show_image(\"OutputImage\", ouput_image)"
   ]
  },
  {
   "cell_type": "markdown",
   "id": "08515182",
   "metadata": {},
   "source": [
    "Cluster lines to find vanishing points."
   ]
  },
  {
   "cell_type": "code",
   "execution_count": 11,
   "id": "554e81af",
   "metadata": {},
   "outputs": [],
   "source": [
    "from clustering import cluster_lines"
   ]
  },
  {
   "cell_type": "code",
   "execution_count": 12,
   "id": "6daffe20",
   "metadata": {},
   "outputs": [],
   "source": [
    "n_clusters = 3"
   ]
  },
  {
   "cell_type": "code",
   "execution_count": 13,
   "id": "f7271bba",
   "metadata": {},
   "outputs": [
    {
     "data": {
      "text/plain": [
       "defaultdict(list,\n",
       "            {0: [array([[443.        ,   0.75049156]], dtype=float32),\n",
       "              array([[261.       ,   0.6981317]], dtype=float32),\n",
       "              array([[245.       ,   0.6806784]], dtype=float32),\n",
       "              array([[569.       ,   0.7853982]], dtype=float32),\n",
       "              array([[361.      ,   0.715585]], dtype=float32),\n",
       "              array([[2.3900000e+02, 1.7453292e-02]], dtype=float32),\n",
       "              array([[260.       ,   0.6806784]], dtype=float32),\n",
       "              array([[363.       ,   0.7330383]], dtype=float32),\n",
       "              array([[2.4700000e+02, 1.7453292e-02]], dtype=float32),\n",
       "              array([[306.      ,   0.715585]], dtype=float32),\n",
       "              array([[585.       ,   0.7853982]], dtype=float32),\n",
       "              array([[532.       ,   0.7853982]], dtype=float32),\n",
       "              array([[303.       ,   0.6981317]], dtype=float32),\n",
       "              array([[2.4100000e+02, 1.7453292e-02]], dtype=float32),\n",
       "              array([[254.       ,   0.6981317]], dtype=float32),\n",
       "              array([[1.8300000e+02, 1.7453292e-01]], dtype=float32)],\n",
       "             2: [array([[-34.       ,   2.2340214]], dtype=float32),\n",
       "              array([[-92.       ,   2.2514746]], dtype=float32),\n",
       "              array([[40.       ,  2.2165682]], dtype=float32),\n",
       "              array([[-109.       ,    2.2514746]], dtype=float32),\n",
       "              array([[799.       ,   1.5707964]], dtype=float32),\n",
       "              array([[308.      ,   2.146755]], dtype=float32),\n",
       "              array([[151.       ,   2.1816616]], dtype=float32)],\n",
       "             1: [array([[-288.       ,    3.0368729]], dtype=float32),\n",
       "              array([[-278.       ,    3.0717795]], dtype=float32),\n",
       "              array([[-342.       ,    2.8972466]], dtype=float32),\n",
       "              array([[-296.       ,    3.0368729]], dtype=float32),\n",
       "              array([[-350.       ,    2.8797932]], dtype=float32),\n",
       "              array([[-292.       ,    3.0194197]], dtype=float32),\n",
       "              array([[-291.      ,    3.054326]], dtype=float32),\n",
       "              array([[-284.      ,    3.054326]], dtype=float32),\n",
       "              array([[-302.       ,    3.0194197]], dtype=float32),\n",
       "              array([[-286.       ,    3.0717795]], dtype=float32),\n",
       "              array([[-346.       ,    2.8972466]], dtype=float32),\n",
       "              array([[-354.       ,    2.8797932]], dtype=float32),\n",
       "              array([[-353.     ,    2.86234]], dtype=float32),\n",
       "              array([[-341.       ,    2.8797932]], dtype=float32),\n",
       "              array([[-357.     ,    2.86234]], dtype=float32),\n",
       "              array([[-337.       ,    2.8972466]], dtype=float32),\n",
       "              array([[-289.       ,    3.0717795]], dtype=float32)]})"
      ]
     },
     "execution_count": 13,
     "metadata": {},
     "output_type": "execute_result"
    }
   ],
   "source": [
    "clusters = cluster_lines(lines, n_clusters=n_clusters)\n",
    "clusters"
   ]
  },
  {
   "cell_type": "markdown",
   "id": "35694be3",
   "metadata": {},
   "source": [
    "Show image with clustered lines and find vanishing points."
   ]
  },
  {
   "cell_type": "code",
   "execution_count": 18,
   "id": "2ecb5d12",
   "metadata": {},
   "outputs": [],
   "source": [
    "from homography import get_vanishing_point, get_nearest_points"
   ]
  },
  {
   "cell_type": "code",
   "execution_count": 15,
   "id": "8819e5ff",
   "metadata": {},
   "outputs": [
    {
     "data": {
      "text/plain": [
       "[array([-5415.984 , -1955.7689], dtype=float32),\n",
       " array([-1668.4064,  8764.042 ], dtype=float32),\n",
       " array([-1087.7777,  -159.3853], dtype=float32)]"
      ]
     },
     "execution_count": 15,
     "metadata": {},
     "output_type": "execute_result"
    }
   ],
   "source": [
    "vanishing_points = [get_vanishing_point(clusters[c]) for c in clusters]\n",
    "vanishing_points"
   ]
  },
  {
   "cell_type": "code",
   "execution_count": 16,
   "id": "da21a757",
   "metadata": {},
   "outputs": [],
   "source": [
    "colors = [(random.randint(0, 256), random.randint(0, 256), random.randint(0, 256)) for _ in range(n_clusters)]\n",
    "\n",
    "output_image = image.copy()\n",
    "for c in clusters:\n",
    "    vp = vanishing_points[c]\n",
    "    for i, line in enumerate(clusters[c]):\n",
    "        draw_line(output_image, line, colors[c])\n",
    "    cv2.circle(output_image, (int(vp[0]), int(vp[1])), 10, colors[c], -1)\n",
    "\n",
    "show_image(\"OutputImage\", output_image) "
   ]
  },
  {
   "cell_type": "code",
   "execution_count": 19,
   "id": "c7fdf781",
   "metadata": {},
   "outputs": [
    {
     "data": {
      "text/plain": [
       "[array([-5415.984 , -1955.7689], dtype=float32),\n",
       " array([-1087.7777,  -159.3853], dtype=float32)]"
      ]
     },
     "execution_count": 19,
     "metadata": {},
     "output_type": "execute_result"
    }
   ],
   "source": [
    "two_points, _ = get_nearest_points(vanishing_points)\n",
    "two_points"
   ]
  },
  {
   "cell_type": "code",
   "execution_count": 90,
   "id": "6a71e086",
   "metadata": {},
   "outputs": [
    {
     "data": {
      "text/plain": [
       "[-5415.984, -1955.7689, 1]"
      ]
     },
     "execution_count": 90,
     "metadata": {},
     "output_type": "execute_result"
    }
   ],
   "source": [
    "point = [*max(two_points, key = lambda x: np.linalg.norm(x)), 1]\n",
    "point"
   ]
  },
  {
   "cell_type": "code",
   "execution_count": 91,
   "id": "b2c5c6e5",
   "metadata": {},
   "outputs": [],
   "source": [
    "target_point = [0, 1, 0]"
   ]
  },
  {
   "cell_type": "code",
   "execution_count": 92,
   "id": "108ee605",
   "metadata": {},
   "outputs": [],
   "source": [
    "import math"
   ]
  },
  {
   "cell_type": "code",
   "execution_count": 125,
   "id": "88f1ec79",
   "metadata": {},
   "outputs": [],
   "source": [
    "def rotate_along_x(point: np.ndarray, target_point: np.ndarray) -> np.ndarray:\n",
    "    theta_x = math.atan2(target_point[2], target_point[1]) - math.atan2(point[2], point[1])\n",
    "    R_x = np.array([\n",
    "        [1, 0, 0],\n",
    "        [0, np.cos(theta_x), -np.sin(theta_x)],\n",
    "        [0, np.sin(theta_x), np.cos(theta_x)],\n",
    "    ])\n",
    "    \n",
    "    return R_x"
   ]
  },
  {
   "cell_type": "code",
   "execution_count": 126,
   "id": "b9050a11",
   "metadata": {},
   "outputs": [],
   "source": [
    "def rotate_along_z(point: np.ndarray, target_point: np.ndarray) -> np.ndarray:\n",
    "    theta_z = math.atan2(target_point[1], target_point[0]) - math.atan2(point[1], point[0])\n",
    "    R_z = np.array([\n",
    "        [np.cos(theta_z), -np.sin(theta_z), 0],\n",
    "        [np.sin(theta_z), np.cos(theta_z), 0],\n",
    "        [0, 0, 1],\n",
    "    ])\n",
    "    \n",
    "    return R_z"
   ]
  },
  {
   "cell_type": "code",
   "execution_count": 128,
   "id": "724b88bb",
   "metadata": {},
   "outputs": [
    {
     "data": {
      "text/plain": [
       "array([1.11022302e-16, 1.41421356e+00, 1.00000000e+00])"
      ]
     },
     "execution_count": 128,
     "metadata": {},
     "output_type": "execute_result"
    }
   ],
   "source": [
    "R_z = rotate_along_z(point, target_point)\n",
    "next_point = R_z @ point\n",
    "next_point"
   ]
  },
  {
   "cell_type": "code",
   "execution_count": 129,
   "id": "ec2be1ee",
   "metadata": {},
   "outputs": [
    {
     "data": {
      "text/plain": [
       "array([1.11022302e-16, 1.73205081e+00, 1.11022302e-16])"
      ]
     },
     "execution_count": 129,
     "metadata": {},
     "output_type": "execute_result"
    }
   ],
   "source": [
    "R_x = rotate_along_x(next_point, target_point)\n",
    "next_point = R_x @ next_point\n",
    "next_point"
   ]
  },
  {
   "cell_type": "code",
   "execution_count": 167,
   "id": "36c599e1",
   "metadata": {},
   "outputs": [],
   "source": [
    "M = [\n",
    "    [1, 0, 0],\n",
    "    [0, 1 / next_point[1], 0],\n",
    "    [0, 0, 1],\n",
    "]"
   ]
  },
  {
   "cell_type": "code",
   "execution_count": 132,
   "id": "a9830ac8",
   "metadata": {},
   "outputs": [
    {
     "data": {
      "text/plain": [
       "array([1.11022302e-16, 1.00000000e+00, 1.11022302e-16])"
      ]
     },
     "execution_count": 132,
     "metadata": {},
     "output_type": "execute_result"
    }
   ],
   "source": [
    "M @ next_point"
   ]
  },
  {
   "cell_type": "code",
   "execution_count": 168,
   "id": "378557dd",
   "metadata": {},
   "outputs": [
    {
     "data": {
      "text/plain": [
       "array([[ 0.70710678, -0.70710678,  0.        ],\n",
       "       [ 0.33333333,  0.33333333,  0.33333333],\n",
       "       [-0.40824829, -0.40824829,  0.81649658]])"
      ]
     },
     "execution_count": 168,
     "metadata": {},
     "output_type": "execute_result"
    }
   ],
   "source": [
    "H = M @ R_x @ R_z\n",
    "H"
   ]
  },
  {
   "cell_type": "code",
   "execution_count": 169,
   "id": "075c91fd",
   "metadata": {},
   "outputs": [],
   "source": [
    "output_image = cv2.warpPerspective(image, H, (image.shape[1], image.shape[0]))"
   ]
  },
  {
   "cell_type": "code",
   "execution_count": 170,
   "id": "7002007e",
   "metadata": {},
   "outputs": [],
   "source": [
    "show_image(\"OutputImage\", output_image)"
   ]
  },
  {
   "cell_type": "code",
   "execution_count": null,
   "id": "4b4d296c",
   "metadata": {},
   "outputs": [],
   "source": []
  }
 ],
 "metadata": {
  "kernelspec": {
   "display_name": "Python 3 (ipykernel)",
   "language": "python",
   "name": "python3"
  },
  "language_info": {
   "codemirror_mode": {
    "name": "ipython",
    "version": 3
   },
   "file_extension": ".py",
   "mimetype": "text/x-python",
   "name": "python",
   "nbconvert_exporter": "python",
   "pygments_lexer": "ipython3",
   "version": "3.9.6"
  }
 },
 "nbformat": 4,
 "nbformat_minor": 5
}
