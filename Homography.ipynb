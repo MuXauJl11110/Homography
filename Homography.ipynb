{
 "cells": [
  {
   "cell_type": "code",
   "execution_count": 41,
   "id": "4547b5a2",
   "metadata": {},
   "outputs": [],
   "source": [
    "import random\n",
    "\n",
    "import cv2\n",
    "import numpy as np"
   ]
  },
  {
   "cell_type": "markdown",
   "id": "0ca3fdad",
   "metadata": {},
   "source": [
    "Download images from directory."
   ]
  },
  {
   "cell_type": "code",
   "execution_count": 42,
   "id": "1cd21a9e",
   "metadata": {},
   "outputs": [],
   "source": [
    "from image import read_image, show_image"
   ]
  },
  {
   "cell_type": "code",
   "execution_count": 43,
   "id": "429b24aa",
   "metadata": {},
   "outputs": [],
   "source": [
    "images, image_names = read_image(\"InputImages\")"
   ]
  },
  {
   "cell_type": "code",
   "execution_count": 44,
   "id": "6fc7bf09",
   "metadata": {},
   "outputs": [
    {
     "data": {
      "text/plain": [
       "['1633601732_6-p-foto-doma-snizu-vverkh-foto-6.jpg',\n",
       " '1633601797_20-p-foto-doma-snizu-vverkh-foto-33.jpg',\n",
       " '1633601733_15-p-foto-doma-snizu-vverkh-foto-20.jpg',\n",
       " '1633601728_17-p-foto-doma-snizu-vverkh-foto-25.jpg',\n",
       " '1633601806_42-p-foto-doma-snizu-vverkh-foto-68.jpg',\n",
       " '1633601775_37-p-foto-doma-snizu-vverkh-foto-59.jpg',\n",
       " '1633601772_12-p-foto-doma-snizu-vverkh-foto-15.jpg',\n",
       " '1633601806_44-p-foto-doma-snizu-vverkh-foto-70.jpg',\n",
       " 'horizon-cloud-sky-sunlight-sqpc.jpeg',\n",
       " '1633601784_50-p-foto-doma-snizu-vverkh-foto-78.jpg',\n",
       " '1633601774_48-p-foto-doma-snizu-vverkh-foto-75.jpg']"
      ]
     },
     "execution_count": 44,
     "metadata": {},
     "output_type": "execute_result"
    }
   ],
   "source": [
    "image_names"
   ]
  },
  {
   "cell_type": "code",
   "execution_count": 45,
   "id": "8fc9231e",
   "metadata": {},
   "outputs": [],
   "source": [
    "image = images[0]"
   ]
  },
  {
   "cell_type": "code",
   "execution_count": 46,
   "id": "c7a7f506",
   "metadata": {},
   "outputs": [],
   "source": [
    "show_image(\"OutputImage\", image)"
   ]
  },
  {
   "cell_type": "markdown",
   "id": "81d1ab39",
   "metadata": {},
   "source": [
    "# Stratification"
   ]
  },
  {
   "cell_type": "markdown",
   "id": "d92c6cff",
   "metadata": {},
   "source": [
    "Get lines from the image."
   ]
  },
  {
   "cell_type": "code",
   "execution_count": 22,
   "id": "670f225c",
   "metadata": {},
   "outputs": [],
   "source": [
    "from line import get_lines, draw_line"
   ]
  },
  {
   "cell_type": "code",
   "execution_count": 23,
   "id": "6ad88315",
   "metadata": {},
   "outputs": [
    {
     "data": {
      "text/plain": [
       "8"
      ]
     },
     "execution_count": 23,
     "metadata": {},
     "output_type": "execute_result"
    }
   ],
   "source": [
    "lines = get_lines(image)\n",
    "len(lines)"
   ]
  },
  {
   "cell_type": "markdown",
   "id": "65e9ee4c",
   "metadata": {},
   "source": [
    "Plot lines."
   ]
  },
  {
   "cell_type": "code",
   "execution_count": 24,
   "id": "fc0866b3",
   "metadata": {},
   "outputs": [],
   "source": [
    "ouput_image = image.copy()\n",
    "# Getting the lines form the image\n",
    "for line in lines:\n",
    "    r = random.randint(0, 256)\n",
    "    g = random.randint(0, 256)\n",
    "    b = random.randint(0, 256)\n",
    "    draw_line(ouput_image, line, (r, g, b))\n",
    "show_image(\"OutputImage\", ouput_image)"
   ]
  },
  {
   "cell_type": "markdown",
   "id": "08515182",
   "metadata": {},
   "source": [
    "Cluster lines to find vanishing points."
   ]
  },
  {
   "cell_type": "code",
   "execution_count": 25,
   "id": "554e81af",
   "metadata": {},
   "outputs": [],
   "source": [
    "from clustering import cluster_lines"
   ]
  },
  {
   "cell_type": "code",
   "execution_count": 26,
   "id": "6daffe20",
   "metadata": {},
   "outputs": [],
   "source": [
    "n_clusters = 3"
   ]
  },
  {
   "cell_type": "code",
   "execution_count": 27,
   "id": "f7271bba",
   "metadata": {},
   "outputs": [
    {
     "data": {
      "text/plain": [
       "defaultdict(list,\n",
       "            {2: [array([[-20.      ,   2.024582]], dtype=float32),\n",
       "              array([[-16.      ,   2.024582]], dtype=float32),\n",
       "              array([[123.       ,   2.0943952]], dtype=float32)],\n",
       "             1: [array([[371.       ,   1.0821041]], dtype=float32),\n",
       "              array([[368.       ,   1.0821041]], dtype=float32),\n",
       "              array([[289.       ,   1.1170107]], dtype=float32)],\n",
       "             0: [array([[701.       ,   0.9250245]], dtype=float32),\n",
       "              array([[711.       ,   0.9075712]], dtype=float32)]})"
      ]
     },
     "execution_count": 27,
     "metadata": {},
     "output_type": "execute_result"
    }
   ],
   "source": [
    "clusters = cluster_lines(lines, n_clusters=n_clusters)\n",
    "clusters"
   ]
  },
  {
   "cell_type": "markdown",
   "id": "35694be3",
   "metadata": {},
   "source": [
    "Show image with clustered lines and find vanishing points."
   ]
  },
  {
   "cell_type": "code",
   "execution_count": 29,
   "id": "2ecb5d12",
   "metadata": {},
   "outputs": [],
   "source": [
    "from homography import get_vanishing_point, get_distant_points, GetVanishingPoint"
   ]
  },
  {
   "cell_type": "code",
   "execution_count": 30,
   "id": "72fd8e49",
   "metadata": {},
   "outputs": [
    {
     "data": {
      "text/plain": [
       "[array([-132142.6 ,  244221.34], dtype=float32),\n",
       " array([51955.97 , 96889.234], dtype=float32),\n",
       " array([ 454.5628 , -348.79706], dtype=float32)]"
      ]
     },
     "execution_count": 30,
     "metadata": {},
     "output_type": "execute_result"
    }
   ],
   "source": [
    "vanishing_points = [get_vanishing_point(clusters[c]) for c in clusters]\n",
    "vanishing_points"
   ]
  },
  {
   "cell_type": "code",
   "execution_count": 31,
   "id": "32347a1e",
   "metadata": {},
   "outputs": [
    {
     "data": {
      "text/plain": [
       "[[-0.9825816779958353, -2.6568469860760273],\n",
       " [0.9922327599404025, -4.718030352214626],\n",
       " [-2.118462210710019, 2.4385799958539014]]"
      ]
     },
     "execution_count": 31,
     "metadata": {},
     "output_type": "execute_result"
    }
   ],
   "source": [
    "vanishing_points = [GetVanishingPoint(clusters[c]) for c in clusters]\n",
    "vanishing_points"
   ]
  },
  {
   "cell_type": "code",
   "execution_count": 33,
   "id": "0ed3d9a9",
   "metadata": {},
   "outputs": [
    {
     "name": "stdout",
     "output_type": "stream",
     "text": [
      "[-2.118462210710019, 2.4385799958539014] (160, 124, 217)\n",
      "[0.9922327599404025, -4.718030352214626] (209, 165, 194)\n",
      "[-0.9825816779958353, -2.6568469860760273] (1, 152, 249)\n"
     ]
    }
   ],
   "source": [
    "colors = [(random.randint(0, 256), random.randint(0, 256), random.randint(0, 256)) for _ in range(n_clusters)]\n",
    "\n",
    "output_image = image.copy()\n",
    "for c in clusters:\n",
    "    vp = vanishing_points[c]\n",
    "    print(vp, colors[c])\n",
    "    for i, line in enumerate(clusters[c]):\n",
    "        draw_line(output_image, line, colors[c])\n",
    "    cv2.circle(output_image, (int(vp[0]), int(vp[1])), 10, colors[c], -1)\n",
    "\n",
    "show_image(\"OutputImage\", output_image)  "
   ]
  },
  {
   "cell_type": "code",
   "execution_count": 34,
   "id": "5894671f",
   "metadata": {},
   "outputs": [
    {
     "data": {
      "text/plain": [
       "[[0.9922327599404025, -4.718030352214626],\n",
       " [-2.118462210710019, 2.4385799958539014]]"
      ]
     },
     "execution_count": 34,
     "metadata": {},
     "output_type": "execute_result"
    }
   ],
   "source": [
    "two_points, _ = get_distant_points(vanishing_points)\n",
    "two_points"
   ]
  },
  {
   "cell_type": "markdown",
   "id": "e64548a2",
   "metadata": {},
   "source": [
    "Perform stratification."
   ]
  },
  {
   "cell_type": "code",
   "execution_count": 35,
   "id": "9120c6ca",
   "metadata": {},
   "outputs": [
    {
     "data": {
      "text/plain": [
       "array([-7.15661035, -3.11069497, -7.57533005])"
      ]
     },
     "execution_count": 35,
     "metadata": {},
     "output_type": "execute_result"
    }
   ],
   "source": [
    "vanishing_line = np.cross([*two_points[0], 1], [*two_points[1], 1])\n",
    "vanishing_line"
   ]
  },
  {
   "cell_type": "code",
   "execution_count": 36,
   "id": "8c05cf88",
   "metadata": {},
   "outputs": [
    {
     "name": "stdout",
     "output_type": "stream",
     "text": [
      "[[ 1.          0.          0.        ]\n",
      " [ 0.          1.          0.        ]\n",
      " [-0.65804157 -0.2860246  -0.69654233]]\n"
     ]
    }
   ],
   "source": [
    "H1 = np.eye(3)\n",
    "H1[2] = vanishing_line\n",
    "H1[2] /= np.linalg.norm(H1, axis=1)[2]\n",
    "#H1[2] /= H1[2][2]\n",
    "print(H1)"
   ]
  },
  {
   "cell_type": "code",
   "execution_count": 37,
   "id": "bf1c7aa8",
   "metadata": {},
   "outputs": [],
   "source": [
    "new_image = cv2.warpPerspective(image, H1, (image.shape[1] * 10, image.shape[0] * 10))"
   ]
  },
  {
   "cell_type": "code",
   "execution_count": 40,
   "id": "b52ad266",
   "metadata": {},
   "outputs": [],
   "source": [
    "show_image(\"OutputImage\", new_image)"
   ]
  },
  {
   "cell_type": "markdown",
   "id": "bb7f7e30",
   "metadata": {},
   "source": [
    "# Metric rectification"
   ]
  },
  {
   "cell_type": "markdown",
   "id": "30a4550d",
   "metadata": {},
   "source": [
    "Get lines from transformed images."
   ]
  },
  {
   "cell_type": "code",
   "execution_count": null,
   "id": "1d8677e8",
   "metadata": {},
   "outputs": [],
   "source": [
    "new_image = image.copy()"
   ]
  },
  {
   "cell_type": "code",
   "execution_count": null,
   "id": "b9d913f5",
   "metadata": {},
   "outputs": [],
   "source": [
    "new_lines = get_lines(new_image)\n",
    "len(new_lines)"
   ]
  },
  {
   "cell_type": "code",
   "execution_count": null,
   "id": "f3afbe6c",
   "metadata": {},
   "outputs": [],
   "source": [
    "output_image = new_image.copy()\n",
    "for line in new_lines:\n",
    "    r = random.randint(0, 256)\n",
    "    g = random.randint(0, 256)\n",
    "    b = random.randint(0, 256)\n",
    "    draw_line(output_image, line, (r, g, b))\n",
    "show_image(\"OutputImage\", output_image)"
   ]
  },
  {
   "cell_type": "code",
   "execution_count": null,
   "id": "8353de71",
   "metadata": {},
   "outputs": [],
   "source": [
    "new_clusters = cluster_lines(new_lines, n_clusters=n_clusters)\n",
    "new_clusters"
   ]
  },
  {
   "cell_type": "code",
   "execution_count": null,
   "id": "56c86c2f",
   "metadata": {},
   "outputs": [],
   "source": [
    "colors = [(random.randint(0, 256), random.randint(0, 256), random.randint(0, 256)) for _ in range(n_clusters)]\n",
    "\n",
    "output_image = new_image.copy()\n",
    "for c in new_clusters:\n",
    "    for line in new_clusters[c]:\n",
    "        draw_line(output_image, line, colors[c])\n",
    "\n",
    "show_image(\"OutputImage\", output_image)  "
   ]
  },
  {
   "cell_type": "markdown",
   "id": "434c4e3a",
   "metadata": {},
   "source": [
    "Find orthogonal lines."
   ]
  },
  {
   "cell_type": "code",
   "execution_count": null,
   "id": "51d88fe6",
   "metadata": {},
   "outputs": [],
   "source": [
    "from line import find_orthogonal_lines"
   ]
  },
  {
   "cell_type": "code",
   "execution_count": null,
   "id": "6bba4c7e",
   "metadata": {},
   "outputs": [],
   "source": [
    "orthogonal_lines = find_orthogonal_lines(new_clusters)\n",
    "orthogonal_lines"
   ]
  },
  {
   "cell_type": "code",
   "execution_count": null,
   "id": "41324256",
   "metadata": {},
   "outputs": [],
   "source": [
    "colors = [(random.randint(0, 256), random.randint(0, 256), random.randint(0, 256)) for _ in range(len(orthogonal_lines))]\n",
    "\n",
    "output_image = new_image.copy()\n",
    "for i, lines in enumerate(orthogonal_lines):\n",
    "    for line in lines:\n",
    "        draw_line(output_image, line, colors[i])\n",
    "\n",
    "show_image(\"OutputImage\", output_image)"
   ]
  },
  {
   "cell_type": "markdown",
   "id": "f4f6b6f6",
   "metadata": {},
   "source": [
    "Make linear equation from 3 orthogonal lines."
   ]
  },
  {
   "cell_type": "code",
   "execution_count": null,
   "id": "b9167e12",
   "metadata": {},
   "outputs": [],
   "source": [
    "from line import get_homogeneous_coordinates"
   ]
  },
  {
   "cell_type": "code",
   "execution_count": null,
   "id": "d8b1c522",
   "metadata": {},
   "outputs": [],
   "source": [
    "s_true = np.array([1, 1, 0])\n",
    "best_u, best_s = [], []\n",
    "best_dist = float('inf')"
   ]
  },
  {
   "cell_type": "code",
   "execution_count": null,
   "id": "a04bd53c",
   "metadata": {},
   "outputs": [],
   "source": [
    "from scipy.linalg import null_space"
   ]
  },
  {
   "cell_type": "code",
   "execution_count": null,
   "id": "b8dff05e",
   "metadata": {},
   "outputs": [],
   "source": [
    "for i in range(len(orthogonal_lines)):\n",
    "    for j in range(i+1, len(orthogonal_lines)):\n",
    "        A = []\n",
    "        pair = orthogonal_lines[i]\n",
    "        l, m = get_homogeneous_coordinates(pair[0]), get_homogeneous_coordinates(pair[1])\n",
    "        A.append([l[0] * m[0], l[1] * m[1], l[0] * m[1] + l[1] * m[0]])\n",
    "        \n",
    "        pair = orthogonal_lines[j]\n",
    "        l, m = get_homogeneous_coordinates(pair[0]), get_homogeneous_coordinates(pair[1])\n",
    "        A.append([l[0] * m[0], l[1] * m[1], l[0] * m[1] + l[1] * m[0]])\n",
    "        \n",
    "        s = null_space(A)\n",
    "        \n",
    "        C_dual = np.zeros((3, 3))\n",
    "        C_dual[0][0], C_dual[0][1] = s[0], s[1]\n",
    "        C_dual[1][0], C_dual[1][1] = s[1], s[2]\n",
    "        C_dual[2][2] = 1\n",
    "        \n",
    "        u, s, vh = np.linalg.svd(C_dual)\n",
    "        dist = np.linalg.norm(s_true - s)\n",
    "        if dist < best_dist:\n",
    "            best_dist = dist\n",
    "            best_u = u\n",
    "            best_s = s"
   ]
  },
  {
   "cell_type": "code",
   "execution_count": null,
   "id": "bf5864fa",
   "metadata": {},
   "outputs": [],
   "source": [
    "best_u, best_s"
   ]
  },
  {
   "cell_type": "code",
   "execution_count": null,
   "id": "09dba840",
   "metadata": {},
   "outputs": [],
   "source": [
    "np.linalg.norm(best_u)"
   ]
  },
  {
   "cell_type": "code",
   "execution_count": null,
   "id": "678c88df",
   "metadata": {},
   "outputs": [],
   "source": [
    "H = best_u @ H1"
   ]
  },
  {
   "cell_type": "code",
   "execution_count": null,
   "id": "d4a9d1c7",
   "metadata": {},
   "outputs": [],
   "source": [
    "np.linalg.norm(H, axis=0)"
   ]
  },
  {
   "cell_type": "code",
   "execution_count": null,
   "id": "19a066e0",
   "metadata": {},
   "outputs": [],
   "source": [
    "output_image = cv2.warpPerspective(new_image, best_u, (new_image.shape[1], new_image.shape[0]))"
   ]
  },
  {
   "cell_type": "code",
   "execution_count": 51,
   "id": "5b6c2a56",
   "metadata": {},
   "outputs": [],
   "source": [
    "show_image(\"OutputImage\", output_image)"
   ]
  },
  {
   "cell_type": "code",
   "execution_count": null,
   "id": "6c5e038d",
   "metadata": {},
   "outputs": [],
   "source": [
    "output_image = cv2.warpPerspective(image, H, (new_image.shape[1], new_image.shape[0]))"
   ]
  },
  {
   "cell_type": "code",
   "execution_count": null,
   "id": "39d936e9",
   "metadata": {},
   "outputs": [],
   "source": [
    "show_image(\"OutputImage\", output_image)"
   ]
  },
  {
   "cell_type": "code",
   "execution_count": null,
   "id": "23f082ef",
   "metadata": {},
   "outputs": [],
   "source": []
  }
 ],
 "metadata": {
  "kernelspec": {
   "display_name": "Python 3 (ipykernel)",
   "language": "python",
   "name": "python3"
  },
  "language_info": {
   "codemirror_mode": {
    "name": "ipython",
    "version": 3
   },
   "file_extension": ".py",
   "mimetype": "text/x-python",
   "name": "python",
   "nbconvert_exporter": "python",
   "pygments_lexer": "ipython3",
   "version": "3.9.6"
  }
 },
 "nbformat": 4,
 "nbformat_minor": 5
}
