{
 "cells": [
  {
   "cell_type": "code",
   "execution_count": 1,
   "id": "4547b5a2",
   "metadata": {},
   "outputs": [],
   "source": [
    "import random\n",
    "\n",
    "import cv2\n",
    "import numpy as np"
   ]
  },
  {
   "cell_type": "markdown",
   "id": "0ca3fdad",
   "metadata": {},
   "source": [
    "Download images from directory."
   ]
  },
  {
   "cell_type": "code",
   "execution_count": 2,
   "id": "1cd21a9e",
   "metadata": {},
   "outputs": [],
   "source": [
    "from image import read_image, show_image"
   ]
  },
  {
   "cell_type": "code",
   "execution_count": 3,
   "id": "429b24aa",
   "metadata": {},
   "outputs": [],
   "source": [
    "images, image_names = read_image(\"InputImages\")"
   ]
  },
  {
   "cell_type": "code",
   "execution_count": 4,
   "id": "8fc9231e",
   "metadata": {},
   "outputs": [],
   "source": [
    "image = images[1]"
   ]
  },
  {
   "cell_type": "code",
   "execution_count": 5,
   "id": "c7a7f506",
   "metadata": {},
   "outputs": [],
   "source": [
    "show_image(\"OutputImage\", image)"
   ]
  },
  {
   "cell_type": "markdown",
   "id": "81d1ab39",
   "metadata": {},
   "source": [
    "# Stratification"
   ]
  },
  {
   "cell_type": "markdown",
   "id": "d92c6cff",
   "metadata": {},
   "source": [
    "Get lines from the image."
   ]
  },
  {
   "cell_type": "code",
   "execution_count": 6,
   "id": "670f225c",
   "metadata": {},
   "outputs": [],
   "source": [
    "from line import get_lines, draw_line"
   ]
  },
  {
   "cell_type": "code",
   "execution_count": 7,
   "id": "6ad88315",
   "metadata": {},
   "outputs": [
    {
     "data": {
      "text/plain": [
       "40"
      ]
     },
     "execution_count": 7,
     "metadata": {},
     "output_type": "execute_result"
    }
   ],
   "source": [
    "lines = get_lines(image)\n",
    "len(lines)"
   ]
  },
  {
   "cell_type": "markdown",
   "id": "65e9ee4c",
   "metadata": {},
   "source": [
    "Plot lines."
   ]
  },
  {
   "cell_type": "code",
   "execution_count": null,
   "id": "fc0866b3",
   "metadata": {},
   "outputs": [],
   "source": [
    "ouput_image = image.copy()\n",
    "# Getting the lines form the image\n",
    "for line in lines:\n",
    "    r = random.randint(0, 256)\n",
    "    g = random.randint(0, 256)\n",
    "    b = random.randint(0, 256)\n",
    "    draw_line(ouput_image, line, (r, g, b))\n",
    "show_image(\"OutputImage\", ouput_image)"
   ]
  },
  {
   "cell_type": "markdown",
   "id": "08515182",
   "metadata": {},
   "source": [
    "Cluster lines to find vanishing points."
   ]
  },
  {
   "cell_type": "code",
   "execution_count": 8,
   "id": "554e81af",
   "metadata": {},
   "outputs": [],
   "source": [
    "from clustering import cluster_lines"
   ]
  },
  {
   "cell_type": "code",
   "execution_count": 9,
   "id": "6daffe20",
   "metadata": {},
   "outputs": [],
   "source": [
    "n_clusters = 3"
   ]
  },
  {
   "cell_type": "code",
   "execution_count": 10,
   "id": "f7271bba",
   "metadata": {},
   "outputs": [
    {
     "data": {
      "text/plain": [
       "defaultdict(list,\n",
       "            {0: [array([[443.        ,   0.75049156]], dtype=float32),\n",
       "              array([[261.       ,   0.6981317]], dtype=float32),\n",
       "              array([[245.       ,   0.6806784]], dtype=float32),\n",
       "              array([[569.       ,   0.7853982]], dtype=float32),\n",
       "              array([[361.      ,   0.715585]], dtype=float32),\n",
       "              array([[2.3900000e+02, 1.7453292e-02]], dtype=float32),\n",
       "              array([[260.       ,   0.6806784]], dtype=float32),\n",
       "              array([[363.       ,   0.7330383]], dtype=float32),\n",
       "              array([[2.4700000e+02, 1.7453292e-02]], dtype=float32),\n",
       "              array([[306.      ,   0.715585]], dtype=float32),\n",
       "              array([[585.       ,   0.7853982]], dtype=float32),\n",
       "              array([[532.       ,   0.7853982]], dtype=float32),\n",
       "              array([[303.       ,   0.6981317]], dtype=float32),\n",
       "              array([[2.4100000e+02, 1.7453292e-02]], dtype=float32),\n",
       "              array([[254.       ,   0.6981317]], dtype=float32),\n",
       "              array([[1.8300000e+02, 1.7453292e-01]], dtype=float32)],\n",
       "             2: [array([[-34.       ,   2.2340214]], dtype=float32),\n",
       "              array([[-92.       ,   2.2514746]], dtype=float32),\n",
       "              array([[40.       ,  2.2165682]], dtype=float32),\n",
       "              array([[-109.       ,    2.2514746]], dtype=float32),\n",
       "              array([[799.       ,   1.5707964]], dtype=float32),\n",
       "              array([[308.      ,   2.146755]], dtype=float32),\n",
       "              array([[151.       ,   2.1816616]], dtype=float32)],\n",
       "             1: [array([[-288.       ,    3.0368729]], dtype=float32),\n",
       "              array([[-278.       ,    3.0717795]], dtype=float32),\n",
       "              array([[-342.       ,    2.8972466]], dtype=float32),\n",
       "              array([[-296.       ,    3.0368729]], dtype=float32),\n",
       "              array([[-350.       ,    2.8797932]], dtype=float32),\n",
       "              array([[-292.       ,    3.0194197]], dtype=float32),\n",
       "              array([[-291.      ,    3.054326]], dtype=float32),\n",
       "              array([[-284.      ,    3.054326]], dtype=float32),\n",
       "              array([[-302.       ,    3.0194197]], dtype=float32),\n",
       "              array([[-286.       ,    3.0717795]], dtype=float32),\n",
       "              array([[-346.       ,    2.8972466]], dtype=float32),\n",
       "              array([[-354.       ,    2.8797932]], dtype=float32),\n",
       "              array([[-353.     ,    2.86234]], dtype=float32),\n",
       "              array([[-341.       ,    2.8797932]], dtype=float32),\n",
       "              array([[-357.     ,    2.86234]], dtype=float32),\n",
       "              array([[-337.       ,    2.8972466]], dtype=float32),\n",
       "              array([[-289.       ,    3.0717795]], dtype=float32)]})"
      ]
     },
     "execution_count": 10,
     "metadata": {},
     "output_type": "execute_result"
    }
   ],
   "source": [
    "clusters = cluster_lines(lines, n_clusters=n_clusters)\n",
    "clusters"
   ]
  },
  {
   "cell_type": "markdown",
   "id": "35694be3",
   "metadata": {},
   "source": [
    "Show image with clustered lines and find vanishing points."
   ]
  },
  {
   "cell_type": "code",
   "execution_count": 11,
   "id": "2ecb5d12",
   "metadata": {},
   "outputs": [],
   "source": [
    "from homography import get_vanishing_point, get_distant_points"
   ]
  },
  {
   "cell_type": "code",
   "execution_count": 12,
   "id": "72fd8e49",
   "metadata": {},
   "outputs": [
    {
     "data": {
      "text/plain": [
       "[array([-5415.984 , -1955.7689], dtype=float32),\n",
       " array([-1668.4064,  8764.042 ], dtype=float32),\n",
       " array([-1087.7777,  -159.3853], dtype=float32)]"
      ]
     },
     "execution_count": 12,
     "metadata": {},
     "output_type": "execute_result"
    }
   ],
   "source": [
    "vanishing_points = [get_vanishing_point(clusters[c]) for c in clusters]\n",
    "vanishing_points"
   ]
  },
  {
   "cell_type": "code",
   "execution_count": null,
   "id": "0ed3d9a9",
   "metadata": {},
   "outputs": [],
   "source": [
    "colors = [(random.randint(0, 256), random.randint(0, 256), random.randint(0, 256)) for _ in range(n_clusters)]\n",
    "\n",
    "output_image = image.copy()\n",
    "for c in clusters:\n",
    "    vp = vanishing_points[c]\n",
    "    for i, line in enumerate(clusters[c]):\n",
    "        draw_line(output_image, line, colors[c])\n",
    "    cv2.circle(output_image, (int(vp[0]), int(vp[1])), 10, colors[c], -1)\n",
    "\n",
    "show_image(\"OutputImage\", output_image)  "
   ]
  },
  {
   "cell_type": "code",
   "execution_count": 13,
   "id": "5894671f",
   "metadata": {},
   "outputs": [
    {
     "data": {
      "text/plain": [
       "[array([-5415.984 , -1955.7689], dtype=float32),\n",
       " array([-1668.4064,  8764.042 ], dtype=float32)]"
      ]
     },
     "execution_count": 13,
     "metadata": {},
     "output_type": "execute_result"
    }
   ],
   "source": [
    "two_points, _ = get_distant_points(vanishing_points)\n",
    "two_points"
   ]
  },
  {
   "cell_type": "markdown",
   "id": "e64548a2",
   "metadata": {},
   "source": [
    "Perform stratification."
   ]
  },
  {
   "cell_type": "code",
   "execution_count": 14,
   "id": "9120c6ca",
   "metadata": {},
   "outputs": [
    {
     "data": {
      "text/plain": [
       "array([-1.07198109e+04,  3.74757751e+03, -5.07289275e+07])"
      ]
     },
     "execution_count": 14,
     "metadata": {},
     "output_type": "execute_result"
    }
   ],
   "source": [
    "vanishing_line = np.cross([*two_points[0], 1], [*two_points[1], 1])\n",
    "vanishing_line"
   ]
  },
  {
   "cell_type": "code",
   "execution_count": 15,
   "id": "8c05cf88",
   "metadata": {},
   "outputs": [
    {
     "name": "stdout",
     "output_type": "stream",
     "text": [
      "[[ 1.00000000e+00  0.00000000e+00  0.00000000e+00]\n",
      " [ 0.00000000e+00  1.00000000e+00  0.00000000e+00]\n",
      " [ 2.11315544e-04 -7.38745662e-05  1.00000000e+00]]\n"
     ]
    }
   ],
   "source": [
    "H1 = np.eye(3)\n",
    "H1[2] = vanishing_line\n",
    "H1[2] /= H1[2][2]\n",
    "print(H1)"
   ]
  },
  {
   "cell_type": "code",
   "execution_count": 16,
   "id": "bf1c7aa8",
   "metadata": {},
   "outputs": [],
   "source": [
    "new_image = cv2.warpPerspective(image, H1, (image.shape[1], image.shape[0]))"
   ]
  },
  {
   "cell_type": "code",
   "execution_count": null,
   "id": "b52ad266",
   "metadata": {},
   "outputs": [],
   "source": [
    "show_image(\"OutputImage\", new_image)"
   ]
  },
  {
   "cell_type": "markdown",
   "id": "bb7f7e30",
   "metadata": {},
   "source": [
    "# Metric rectification"
   ]
  },
  {
   "cell_type": "markdown",
   "id": "30a4550d",
   "metadata": {},
   "source": [
    "Get lines from transformed images."
   ]
  },
  {
   "cell_type": "code",
   "execution_count": 17,
   "id": "b9d913f5",
   "metadata": {},
   "outputs": [
    {
     "data": {
      "text/plain": [
       "38"
      ]
     },
     "execution_count": 17,
     "metadata": {},
     "output_type": "execute_result"
    }
   ],
   "source": [
    "new_lines = get_lines(new_image)\n",
    "len(new_lines)"
   ]
  },
  {
   "cell_type": "code",
   "execution_count": null,
   "id": "f3afbe6c",
   "metadata": {},
   "outputs": [],
   "source": [
    "output_image = new_image.copy()\n",
    "for line in new_lines:\n",
    "    r = random.randint(0, 256)\n",
    "    g = random.randint(0, 256)\n",
    "    b = random.randint(0, 256)\n",
    "    draw_line(output_image, line, (r, g, b))\n",
    "show_image(\"OutputImage\", output_image)"
   ]
  },
  {
   "cell_type": "code",
   "execution_count": 18,
   "id": "8353de71",
   "metadata": {},
   "outputs": [
    {
     "data": {
      "text/plain": [
       "defaultdict(list,\n",
       "            {2: [array([[-478.      ,    3.106686]], dtype=float32),\n",
       "              array([[-277.       ,    3.0194197]], dtype=float32),\n",
       "              array([[-317.       ,    2.8972466]], dtype=float32),\n",
       "              array([[-282.       ,    3.0019662]], dtype=float32),\n",
       "              array([[-261.      ,    3.054326]], dtype=float32),\n",
       "              array([[-329.     ,    2.86234]], dtype=float32),\n",
       "              array([[-269.       ,    3.0194197]], dtype=float32),\n",
       "              array([[-320.       ,    2.8797932]], dtype=float32),\n",
       "              array([[-281.       ,    3.0194197]], dtype=float32),\n",
       "              array([[-324.       ,    2.8797932]], dtype=float32),\n",
       "              array([[-273.       ,    3.0368729]], dtype=float32),\n",
       "              array([[-265.       ,    3.0368729]], dtype=float32),\n",
       "              array([[-313.       ,    2.8972466]], dtype=float32),\n",
       "              array([[-264.       ,    3.0717795]], dtype=float32),\n",
       "              array([[-315.       ,    2.8797932]], dtype=float32),\n",
       "              array([[-321.       ,    2.8972466]], dtype=float32),\n",
       "              array([[-269.      ,    3.054326]], dtype=float32)],\n",
       "             1: [array([[537.       ,   0.6806784]], dtype=float32),\n",
       "              array([[346.       ,   0.6457718]], dtype=float32),\n",
       "              array([[228.,   0.]], dtype=float32),\n",
       "              array([[252.       ,   0.6457718]], dtype=float32),\n",
       "              array([[239.       ,   0.6457718]], dtype=float32),\n",
       "              array([[420.       ,   0.6632251]], dtype=float32),\n",
       "              array([[348.       ,   0.6632251]], dtype=float32),\n",
       "              array([[245.       ,   0.6457718]], dtype=float32),\n",
       "              array([[235.,   0.]], dtype=float32),\n",
       "              array([[237.,   0.]], dtype=float32),\n",
       "              array([[426.       ,   0.6806784]], dtype=float32),\n",
       "              array([[554.       ,   0.6806784]], dtype=float32),\n",
       "              array([[2.010000e+02, 6.981317e-02]], dtype=float32),\n",
       "              array([[296.       ,   0.6632251]], dtype=float32),\n",
       "              array([[293.       ,   0.6457718]], dtype=float32),\n",
       "              array([[1.7700000e+02, 1.5707964e-01]], dtype=float32)],\n",
       "             0: [array([[154.       ,   2.1642082]], dtype=float32),\n",
       "              array([[-32.       ,   2.2340214]], dtype=float32),\n",
       "              array([[319.       ,   2.1118484]], dtype=float32),\n",
       "              array([[836.       ,   1.3962634]], dtype=float32),\n",
       "              array([[-109.      ,    2.268928]], dtype=float32)]})"
      ]
     },
     "execution_count": 18,
     "metadata": {},
     "output_type": "execute_result"
    }
   ],
   "source": [
    "new_clusters = cluster_lines(new_lines, n_clusters=n_clusters)\n",
    "new_clusters"
   ]
  },
  {
   "cell_type": "code",
   "execution_count": null,
   "id": "56c86c2f",
   "metadata": {},
   "outputs": [],
   "source": [
    "colors = [(random.randint(0, 256), random.randint(0, 256), random.randint(0, 256)) for _ in range(n_clusters)]\n",
    "\n",
    "output_image = new_image.copy()\n",
    "for c in new_clusters:\n",
    "    for line in new_clusters[c]:\n",
    "        draw_line(output_image, line, colors[c])\n",
    "\n",
    "show_image(\"OutputImage\", output_image)  "
   ]
  },
  {
   "cell_type": "markdown",
   "id": "434c4e3a",
   "metadata": {},
   "source": [
    "Find orthogonal lines."
   ]
  },
  {
   "cell_type": "code",
   "execution_count": 19,
   "id": "51d88fe6",
   "metadata": {},
   "outputs": [],
   "source": [
    "from line import find_orthogonal_lines"
   ]
  },
  {
   "cell_type": "code",
   "execution_count": 21,
   "id": "6bba4c7e",
   "metadata": {},
   "outputs": [
    {
     "data": {
      "text/plain": [
       "[[array([[-32.       ,   2.2340214]], dtype=float32),\n",
       "  array([[420.       ,   0.6632251]], dtype=float32)],\n",
       " [array([[836.       ,   1.3962634]], dtype=float32),\n",
       "  array([[-282.       ,    3.0019662]], dtype=float32)],\n",
       " [array([[537.       ,   0.6806784]], dtype=float32),\n",
       "  array([[-329.     ,    2.86234]], dtype=float32)]]"
      ]
     },
     "execution_count": 21,
     "metadata": {},
     "output_type": "execute_result"
    }
   ],
   "source": [
    "orthogonal_lines = find_orthogonal_lines(new_clusters)\n",
    "orthogonal_lines"
   ]
  },
  {
   "cell_type": "code",
   "execution_count": null,
   "id": "41324256",
   "metadata": {},
   "outputs": [],
   "source": [
    "colors = [(random.randint(0, 256), random.randint(0, 256), random.randint(0, 256)) for _ in range(len(orthogonal_lines))]\n",
    "\n",
    "output_image = new_image.copy()\n",
    "for i, lines in enumerate(orthogonal_lines):\n",
    "    for line in lines:\n",
    "        draw_line(output_image, line, colors[i])\n",
    "\n",
    "show_image(\"OutputImage\", output_image)"
   ]
  },
  {
   "cell_type": "markdown",
   "id": "f4f6b6f6",
   "metadata": {},
   "source": [
    "Make linear equation from 3 orthogonal lines."
   ]
  },
  {
   "cell_type": "code",
   "execution_count": 22,
   "id": "b9167e12",
   "metadata": {},
   "outputs": [],
   "source": [
    "from line import get_homogeneous_coordinates"
   ]
  },
  {
   "cell_type": "code",
   "execution_count": 37,
   "id": "d8b1c522",
   "metadata": {},
   "outputs": [],
   "source": [
    "s_true = np.array([1, 1, 0])\n",
    "best_u, best_s = [], []\n",
    "best_dist = float('inf')"
   ]
  },
  {
   "cell_type": "code",
   "execution_count": 38,
   "id": "a04bd53c",
   "metadata": {},
   "outputs": [],
   "source": [
    "from scipy.linalg import null_space"
   ]
  },
  {
   "cell_type": "code",
   "execution_count": 42,
   "id": "b8dff05e",
   "metadata": {},
   "outputs": [],
   "source": [
    "for i in range(len(orthogonal_lines)):\n",
    "    for j in range(i+1, len(orthogonal_lines)):\n",
    "        A = []\n",
    "        pair = orthogonal_lines[i]\n",
    "        l, m = get_homogeneous_coordinates(pair[0]), get_homogeneous_coordinates(pair[1])\n",
    "        A.append([l[0] * m[0], l[1] * m[1], l[0] * m[1] + l[1] * m[0]])\n",
    "        \n",
    "        pair = orthogonal_lines[j]\n",
    "        l, m = get_homogeneous_coordinates(pair[0]), get_homogeneous_coordinates(pair[1])\n",
    "        A.append([l[0] * m[0], l[1] * m[1], l[0] * m[1] + l[1] * m[0]])\n",
    "        \n",
    "        s = null_space(A)\n",
    "        \n",
    "        C_dual = np.zeros((3, 3))\n",
    "        C_dual[0][0], C_dual[0][1] = s[0], s[1]\n",
    "        C_dual[1][0], C_dual[1][1] = s[1], s[2]\n",
    "        C_dual[2][2] = 1\n",
    "        \n",
    "        u, s, vh = np.linalg.svd(C_dual)\n",
    "        dist = np.linalg.norm(s_true - s)\n",
    "        if dist < best_dist:\n",
    "            best_dist = dist\n",
    "            best_u = u\n",
    "            best_s = s"
   ]
  },
  {
   "cell_type": "code",
   "execution_count": 43,
   "id": "bf5864fa",
   "metadata": {},
   "outputs": [
    {
     "data": {
      "text/plain": [
       "(array([[-0.85241439,  0.        , -0.52286681],\n",
       "        [-0.52286681,  0.        ,  0.85241439],\n",
       "        [ 0.        ,  1.        ,  0.        ]]),\n",
       " array([1.13816031, 1.        , 0.46126027]))"
      ]
     },
     "execution_count": 43,
     "metadata": {},
     "output_type": "execute_result"
    }
   ],
   "source": [
    "best_u, best_s"
   ]
  },
  {
   "cell_type": "code",
   "execution_count": 44,
   "id": "19a066e0",
   "metadata": {},
   "outputs": [],
   "source": [
    "output_image = cv2.warpPerspective(new_image, best_u, (new_image.shape[1], new_image.shape[0]))"
   ]
  },
  {
   "cell_type": "code",
   "execution_count": 45,
   "id": "5b6c2a56",
   "metadata": {},
   "outputs": [],
   "source": [
    "show_image(\"OutputImage\", output_image)"
   ]
  },
  {
   "cell_type": "code",
   "execution_count": null,
   "id": "6c5e038d",
   "metadata": {},
   "outputs": [],
   "source": []
  }
 ],
 "metadata": {
  "kernelspec": {
   "display_name": "Python 3 (ipykernel)",
   "language": "python",
   "name": "python3"
  },
  "language_info": {
   "codemirror_mode": {
    "name": "ipython",
    "version": 3
   },
   "file_extension": ".py",
   "mimetype": "text/x-python",
   "name": "python",
   "nbconvert_exporter": "python",
   "pygments_lexer": "ipython3",
   "version": "3.9.6"
  }
 },
 "nbformat": 4,
 "nbformat_minor": 5
}
