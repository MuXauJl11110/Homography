{
 "cells": [
  {
   "cell_type": "code",
   "execution_count": 1,
   "id": "4547b5a2",
   "metadata": {},
   "outputs": [],
   "source": [
    "import random\n",
    "\n",
    "import cv2\n",
    "import numpy as np"
   ]
  },
  {
   "cell_type": "markdown",
   "id": "0ca3fdad",
   "metadata": {},
   "source": [
    "Download images from directory."
   ]
  },
  {
   "cell_type": "code",
   "execution_count": 2,
   "id": "1cd21a9e",
   "metadata": {},
   "outputs": [],
   "source": [
    "from image import read_image, show_image"
   ]
  },
  {
   "cell_type": "code",
   "execution_count": 3,
   "id": "429b24aa",
   "metadata": {},
   "outputs": [],
   "source": [
    "images, image_names = read_image(\"InputImages\")"
   ]
  },
  {
   "cell_type": "code",
   "execution_count": 4,
   "id": "8fc9231e",
   "metadata": {},
   "outputs": [],
   "source": [
    "image = images[0]"
   ]
  },
  {
   "cell_type": "markdown",
   "id": "81d1ab39",
   "metadata": {},
   "source": [
    "# Stratification"
   ]
  },
  {
   "cell_type": "markdown",
   "id": "d92c6cff",
   "metadata": {},
   "source": [
    "Get lines from the image."
   ]
  },
  {
   "cell_type": "code",
   "execution_count": 5,
   "id": "670f225c",
   "metadata": {},
   "outputs": [],
   "source": [
    "from line import get_lines, draw_line"
   ]
  },
  {
   "cell_type": "code",
   "execution_count": 6,
   "id": "6ad88315",
   "metadata": {},
   "outputs": [],
   "source": [
    "lines = get_lines(image)"
   ]
  },
  {
   "cell_type": "markdown",
   "id": "65e9ee4c",
   "metadata": {},
   "source": [
    "Plot lines."
   ]
  },
  {
   "cell_type": "code",
   "execution_count": null,
   "id": "fc0866b3",
   "metadata": {},
   "outputs": [],
   "source": [
    "ouput_image = image.copy()\n",
    "# Getting the lines form the image\n",
    "for line in lines:\n",
    "    r = random.randint(0, 256)\n",
    "    g = random.randint(0, 256)\n",
    "    b = random.randint(0, 256)\n",
    "    draw_line(ouput_image, line, (r, g, b))\n",
    "show_image(\"OutputImage\", ouput_image)"
   ]
  },
  {
   "cell_type": "markdown",
   "id": "08515182",
   "metadata": {},
   "source": [
    "Cluster lines to find vanishing points."
   ]
  },
  {
   "cell_type": "code",
   "execution_count": 7,
   "id": "554e81af",
   "metadata": {},
   "outputs": [],
   "source": [
    "from clustering import cluster_lines"
   ]
  },
  {
   "cell_type": "code",
   "execution_count": 8,
   "id": "6daffe20",
   "metadata": {},
   "outputs": [],
   "source": [
    "n_clusters = 3"
   ]
  },
  {
   "cell_type": "code",
   "execution_count": 9,
   "id": "f7271bba",
   "metadata": {},
   "outputs": [
    {
     "data": {
      "text/plain": [
       "defaultdict(list,\n",
       "            {0: [array([[-240.       ,    2.0769417]], dtype=float32),\n",
       "              array([[-177.       ,    2.1816616]], dtype=float32),\n",
       "              array([[-244.       ,    2.0769417]], dtype=float32),\n",
       "              array([[-216.       ,    2.0943952]], dtype=float32),\n",
       "              array([[-188.       ,    2.1991148]], dtype=float32),\n",
       "              array([[-143.       ,    2.2165682]], dtype=float32),\n",
       "              array([[-128.       ,    2.2863812]], dtype=float32),\n",
       "              array([[-229.       ,    2.0594885]], dtype=float32),\n",
       "              array([[-226.       ,    2.1118484]], dtype=float32),\n",
       "              array([[-159.       ,    2.2340214]], dtype=float32),\n",
       "              array([[-256.       ,    2.0071287]], dtype=float32),\n",
       "              array([[-205.      ,    2.146755]], dtype=float32)],\n",
       "             2: [array([[-44.       ,   2.4085543]], dtype=float32),\n",
       "              array([[3.       , 2.4783676]], dtype=float32),\n",
       "              array([[-6.       ,  2.4958208]], dtype=float32),\n",
       "              array([[-89.      ,   2.338741]], dtype=float32),\n",
       "              array([[-91.       ,   2.3561945]], dtype=float32),\n",
       "              array([[55.       ,  2.5830872]], dtype=float32),\n",
       "              array([[-2.       ,  2.4958208]], dtype=float32)],\n",
       "             1: [array([[531.       ,   1.3439035]], dtype=float32),\n",
       "              array([[684.       ,   1.2915436]], dtype=float32)]})"
      ]
     },
     "execution_count": 9,
     "metadata": {},
     "output_type": "execute_result"
    }
   ],
   "source": [
    "clusters = cluster_lines(lines, n_clusters=n_clusters)\n",
    "clusters"
   ]
  },
  {
   "cell_type": "markdown",
   "id": "35694be3",
   "metadata": {},
   "source": [
    "Show image with clustered lines and find vanishing points."
   ]
  },
  {
   "cell_type": "code",
   "execution_count": 10,
   "id": "2ecb5d12",
   "metadata": {},
   "outputs": [],
   "source": [
    "from homography import get_vanishing_point, get_distant_points"
   ]
  },
  {
   "cell_type": "code",
   "execution_count": 11,
   "id": "72fd8e49",
   "metadata": {},
   "outputs": [
    {
     "data": {
      "text/plain": [
       "[array([  229.23634, -1241.6215 ], dtype=float32),\n",
       " array([-607.8082 , -281.19775], dtype=float32),\n",
       " array([2829.3293, -731.7135], dtype=float32)]"
      ]
     },
     "execution_count": 11,
     "metadata": {},
     "output_type": "execute_result"
    }
   ],
   "source": [
    "vanishing_points = [get_vanishing_point(clusters[c]) for c in clusters]\n",
    "vanishing_points"
   ]
  },
  {
   "cell_type": "code",
   "execution_count": null,
   "id": "0ed3d9a9",
   "metadata": {},
   "outputs": [],
   "source": [
    "colors = [(random.randint(0, 256), random.randint(0, 256), random.randint(0, 256)) for _ in range(n_clusters)]\n",
    "\n",
    "output_image = image.copy()\n",
    "for c in clusters:\n",
    "    vp = vanishing_points[c]\n",
    "    for i, line in enumerate(clusters[c]):\n",
    "        draw_line(output_image, line, colors[c])\n",
    "    cv2.circle(output_image, (int(vp[0]), int(vp[1])), 10, colors[c], -1)\n",
    "\n",
    "show_image(\"OutputImage\", output_image)  "
   ]
  },
  {
   "cell_type": "code",
   "execution_count": 12,
   "id": "5894671f",
   "metadata": {},
   "outputs": [
    {
     "data": {
      "text/plain": [
       "[array([-607.8082 , -281.19775], dtype=float32),\n",
       " array([2829.3293, -731.7135], dtype=float32)]"
      ]
     },
     "execution_count": 12,
     "metadata": {},
     "output_type": "execute_result"
    }
   ],
   "source": [
    "two_points, _ = get_distant_points(vanishing_points)\n",
    "two_points"
   ]
  },
  {
   "cell_type": "markdown",
   "id": "e64548a2",
   "metadata": {},
   "source": [
    "Perform stratification."
   ]
  },
  {
   "cell_type": "code",
   "execution_count": 13,
   "id": "8c05cf88",
   "metadata": {},
   "outputs": [
    {
     "name": "stdout",
     "output_type": "stream",
     "text": [
      "[[1.00000000e+00 0.00000000e+00 0.00000000e+00]\n",
      " [0.00000000e+00 1.00000000e+00 0.00000000e+00]\n",
      " [3.63218814e-04 2.77111963e-03 1.00000000e+00]]\n"
     ]
    }
   ],
   "source": [
    "H1 = np.eye(3)\n",
    "H1[2] = np.cross([*two_points[0], 1], [*two_points[1], 1])\n",
    "H1[2] /= H1[2][2]\n",
    "print(H1)"
   ]
  },
  {
   "cell_type": "code",
   "execution_count": 14,
   "id": "bf1c7aa8",
   "metadata": {},
   "outputs": [],
   "source": [
    "new_image = cv2.warpPerspective(image, H1, (image.shape[1], image.shape[0]))\n",
    "show_image(\"OutputImage\", new_image)"
   ]
  },
  {
   "cell_type": "markdown",
   "id": "bb7f7e30",
   "metadata": {},
   "source": [
    "# Metric rectification"
   ]
  },
  {
   "cell_type": "markdown",
   "id": "30a4550d",
   "metadata": {},
   "source": [
    "Get lines from transformed images."
   ]
  },
  {
   "cell_type": "code",
   "execution_count": 15,
   "id": "b9d913f5",
   "metadata": {},
   "outputs": [
    {
     "data": {
      "text/plain": [
       "21"
      ]
     },
     "execution_count": 15,
     "metadata": {},
     "output_type": "execute_result"
    }
   ],
   "source": [
    "new_lines = get_lines(new_image, threshold=80, lines=10, srn=15)\n",
    "len(lines)"
   ]
  },
  {
   "cell_type": "code",
   "execution_count": null,
   "id": "f3afbe6c",
   "metadata": {},
   "outputs": [],
   "source": [
    "output_image = new_image.copy()\n",
    "for line in new_lines:\n",
    "    r = random.randint(0, 256)\n",
    "    g = random.randint(0, 256)\n",
    "    b = random.randint(0, 256)\n",
    "    draw_line(output_image, line, (r, g, b))\n",
    "show_image(\"OutputImage\", output_image)"
   ]
  },
  {
   "cell_type": "code",
   "execution_count": 16,
   "id": "8353de71",
   "metadata": {},
   "outputs": [
    {
     "data": {
      "text/plain": [
       "defaultdict(list,\n",
       "            {1: [array([[324.       ,   1.1170107]], dtype=float32),\n",
       "              array([[330.       ,   1.0995574]], dtype=float32),\n",
       "              array([[313.      ,   1.134464]], dtype=float32),\n",
       "              array([[332.       ,   1.0995574]], dtype=float32),\n",
       "              array([[316.      ,   1.134464]], dtype=float32)],\n",
       "             0: [array([[234.       ,   1.4835298]], dtype=float32),\n",
       "              array([[55.       ,  1.4486233]], dtype=float32),\n",
       "              array([[120.     ,   1.43117]], dtype=float32),\n",
       "              array([[124.       ,   1.4137167]], dtype=float32),\n",
       "              array([[201.       ,   1.4137167]], dtype=float32),\n",
       "              array([[113.       ,   1.4486233]], dtype=float32),\n",
       "              array([[133.     ,   1.43117]], dtype=float32),\n",
       "              array([[107.       ,   1.4137167]], dtype=float32),\n",
       "              array([[53.       ,  1.4660766]], dtype=float32),\n",
       "              array([[101.       ,   1.4835298]], dtype=float32),\n",
       "              array([[110.       ,   1.4137167]], dtype=float32),\n",
       "              array([[107.       ,   1.4660766]], dtype=float32),\n",
       "              array([[137.       ,   1.3613569]], dtype=float32),\n",
       "              array([[38.       ,  1.4660766]], dtype=float32),\n",
       "              array([[109.     ,   1.43117]], dtype=float32),\n",
       "              array([[89.       ,  1.4486233]], dtype=float32),\n",
       "              array([[235.       ,   1.3962634]], dtype=float32),\n",
       "              array([[195.       ,   1.3089969]], dtype=float32),\n",
       "              array([[136.     ,   1.37881]], dtype=float32),\n",
       "              array([[189.       ,   1.4137167]], dtype=float32),\n",
       "              array([[105.       ,   1.4486233]], dtype=float32),\n",
       "              array([[96.     ,  1.43117]], dtype=float32),\n",
       "              array([[116.       ,   1.4486233]], dtype=float32),\n",
       "              array([[45.       ,  1.5882496]], dtype=float32),\n",
       "              array([[95.       ,  1.4660766]], dtype=float32),\n",
       "              array([[43.       ,  1.4486233]], dtype=float32),\n",
       "              array([[131.     ,   1.43117]], dtype=float32),\n",
       "              array([[66.       ,  1.4486233]], dtype=float32),\n",
       "              array([[92.       ,  1.4486233]], dtype=float32),\n",
       "              array([[238.     ,   1.37881]], dtype=float32),\n",
       "              array([[205.       ,   1.3962634]], dtype=float32),\n",
       "              array([[56.     ,  1.43117]], dtype=float32),\n",
       "              array([[130.       ,   1.4486233]], dtype=float32),\n",
       "              array([[177.       ,   1.5009831]], dtype=float32),\n",
       "              array([[30.       ,  1.6231562]], dtype=float32),\n",
       "              array([[197.       ,   1.3089969]], dtype=float32),\n",
       "              array([[238.       ,   1.3439035]], dtype=float32),\n",
       "              array([[167.       ,   1.3613569]], dtype=float32),\n",
       "              array([[104.       ,   1.5009831]], dtype=float32),\n",
       "              array([[130.     ,   1.37881]], dtype=float32),\n",
       "              array([[40.       ,  1.4486233]], dtype=float32),\n",
       "              array([[180.       ,   1.4486233]], dtype=float32),\n",
       "              array([[37.       ,  1.5009831]], dtype=float32),\n",
       "              array([[40.       ,  1.6057029]], dtype=float32),\n",
       "              array([[204.       ,   1.2915436]], dtype=float32),\n",
       "              array([[125.       ,   1.4835298]], dtype=float32),\n",
       "              array([[40.       ,  1.5009831]], dtype=float32)],\n",
       "             2: [array([[-97.       ,   2.5481806]], dtype=float32),\n",
       "              array([[0.       , 2.4958208]], dtype=float32),\n",
       "              array([[-7.       ,  2.5132742]], dtype=float32)]})"
      ]
     },
     "execution_count": 16,
     "metadata": {},
     "output_type": "execute_result"
    }
   ],
   "source": [
    "new_clusters = cluster_lines(new_lines, n_clusters=n_clusters)\n",
    "new_clusters"
   ]
  },
  {
   "cell_type": "code",
   "execution_count": 21,
   "id": "56c86c2f",
   "metadata": {},
   "outputs": [],
   "source": [
    "colors = [(random.randint(0, 256), random.randint(0, 256), random.randint(0, 256)) for _ in range(n_clusters)]\n",
    "\n",
    "output_image = new_image.copy()\n",
    "for c in new_clusters:\n",
    "    for line in new_clusters[c]:\n",
    "        draw_line(output_image, line, colors[c])\n",
    "\n",
    "show_image(\"OutputImage\", output_image)  "
   ]
  },
  {
   "cell_type": "markdown",
   "id": "434c4e3a",
   "metadata": {},
   "source": [
    "Find orthogonal lines."
   ]
  },
  {
   "cell_type": "code",
   "execution_count": 22,
   "id": "51d88fe6",
   "metadata": {},
   "outputs": [],
   "source": [
    "from line import find_orthogonal_lines"
   ]
  },
  {
   "cell_type": "code",
   "execution_count": 27,
   "id": "6e81a639",
   "metadata": {},
   "outputs": [
    {
     "data": {
      "text/plain": [
       "3"
      ]
     },
     "execution_count": 27,
     "metadata": {},
     "output_type": "execute_result"
    }
   ],
   "source": [
    "len(new_clusters)"
   ]
  },
  {
   "cell_type": "code",
   "execution_count": 25,
   "id": "6bba4c7e",
   "metadata": {},
   "outputs": [
    {
     "data": {
      "text/plain": [
       "[[array([[30.       ,  1.6231562]], dtype=float32),\n",
       "  array([[330.       ,   1.0995574]], dtype=float32)],\n",
       " [array([[204.       ,   1.2915436]], dtype=float32),\n",
       "  array([[-97.       ,   2.5481806]], dtype=float32)],\n",
       " [array([[330.       ,   1.0995574]], dtype=float32),\n",
       "  array([[-97.       ,   2.5481806]], dtype=float32)]]"
      ]
     },
     "execution_count": 25,
     "metadata": {},
     "output_type": "execute_result"
    }
   ],
   "source": [
    "orthogonal_lines = find_orthogonal_lines(new_clusters)\n",
    "orthogonal_lines"
   ]
  },
  {
   "cell_type": "code",
   "execution_count": 26,
   "id": "41324256",
   "metadata": {},
   "outputs": [],
   "source": [
    "colors = [(random.randint(0, 256), random.randint(0, 256), random.randint(0, 256)) for _ in range(len(orthogonal_lines))]\n",
    "\n",
    "output_image = new_image.copy()\n",
    "for i, lines in enumerate(orthogonal_lines):\n",
    "    for line in lines:\n",
    "        draw_line(output_image, line, colors[i])\n",
    "\n",
    "show_image(\"OutputImage\", output_image)"
   ]
  },
  {
   "cell_type": "markdown",
   "id": "f4f6b6f6",
   "metadata": {},
   "source": [
    "Make linear equation from 3 orthogonal lines."
   ]
  },
  {
   "cell_type": "code",
   "execution_count": 30,
   "id": "b9167e12",
   "metadata": {},
   "outputs": [],
   "source": [
    "from line import get_homogeneous_coordinates"
   ]
  },
  {
   "cell_type": "markdown",
   "id": "c1af1016",
   "metadata": {},
   "source": [
    "Suppose that $s_{12}$ = $s_{21}$= 1"
   ]
  },
  {
   "cell_type": "code",
   "execution_count": 50,
   "id": "c1715bed",
   "metadata": {},
   "outputs": [],
   "source": [
    "A = []\n",
    "b = []\n",
    "for pair in orthogonal_lines[:2]:\n",
    "    l, m = get_homogeneous_coordinates(pair[0]), get_homogeneous_coordinates(pair[1])\n",
    "    A.append([l[0] * m[0], l[1] * m[1]])\n",
    "    b.append(-(l[0] * m[1] + l[1] * m[0]))"
   ]
  },
  {
   "cell_type": "code",
   "execution_count": 51,
   "id": "f824ffc1",
   "metadata": {},
   "outputs": [
    {
     "data": {
      "text/plain": [
       "array([-4.148778, -0.567903], dtype=float32)"
      ]
     },
     "execution_count": 51,
     "metadata": {},
     "output_type": "execute_result"
    }
   ],
   "source": [
    "s = np.linalg.solve(A, b)\n",
    "s"
   ]
  },
  {
   "cell_type": "code",
   "execution_count": 53,
   "id": "6839680b",
   "metadata": {},
   "outputs": [],
   "source": [
    "C = np.array([\n",
    "    [s[0], 1, 0],\n",
    "    [1, s[1], 0],\n",
    "    [0, 0, 1],\n",
    "])"
   ]
  },
  {
   "cell_type": "code",
   "execution_count": 54,
   "id": "5cdc556e",
   "metadata": {},
   "outputs": [],
   "source": [
    "u, s, vh = np.linalg.svd(C, full_matrices=True)"
   ]
  },
  {
   "cell_type": "code",
   "execution_count": 57,
   "id": "0368b1b5",
   "metadata": {},
   "outputs": [
    {
     "data": {
      "text/plain": [
       "array([[-0.96774359,  0.        ,  0.2519372 ],\n",
       "       [ 0.2519372 ,  0.        ,  0.96774359],\n",
       "       [ 0.        ,  1.        ,  0.        ]])"
      ]
     },
     "execution_count": 57,
     "metadata": {},
     "output_type": "execute_result"
    }
   ],
   "source": [
    "u"
   ]
  },
  {
   "cell_type": "code",
   "execution_count": 58,
   "id": "b71dcc5f",
   "metadata": {},
   "outputs": [
    {
     "data": {
      "text/plain": [
       "array([4.40911262, 1.        , 0.30756832])"
      ]
     },
     "execution_count": 58,
     "metadata": {},
     "output_type": "execute_result"
    }
   ],
   "source": [
    "s"
   ]
  },
  {
   "cell_type": "code",
   "execution_count": 59,
   "id": "ac851ef5",
   "metadata": {},
   "outputs": [
    {
     "data": {
      "text/plain": [
       "array([[ 0.96774359, -0.2519372 ,  0.        ],\n",
       "       [ 0.        ,  0.        ,  1.        ],\n",
       "       [-0.2519372 , -0.96774359, -0.        ]])"
      ]
     },
     "execution_count": 59,
     "metadata": {},
     "output_type": "execute_result"
    }
   ],
   "source": [
    "vh"
   ]
  },
  {
   "cell_type": "markdown",
   "id": "4a72b685",
   "metadata": {},
   "source": [
    "Then metric rectification is u matrix."
   ]
  },
  {
   "cell_type": "code",
   "execution_count": 61,
   "id": "ef48018d",
   "metadata": {},
   "outputs": [],
   "source": [
    "H2 = u"
   ]
  },
  {
   "cell_type": "code",
   "execution_count": 62,
   "id": "20cbb496",
   "metadata": {},
   "outputs": [],
   "source": [
    "output_image = cv2.warpPerspective(new_image, H2, (new_image.shape[1], new_image.shape[0]))\n",
    "show_image(\"OutputImage\", output_image)"
   ]
  }
 ],
 "metadata": {
  "kernelspec": {
   "display_name": "Python 3 (ipykernel)",
   "language": "python",
   "name": "python3"
  },
  "language_info": {
   "codemirror_mode": {
    "name": "ipython",
    "version": 3
   },
   "file_extension": ".py",
   "mimetype": "text/x-python",
   "name": "python",
   "nbconvert_exporter": "python",
   "pygments_lexer": "ipython3",
   "version": "3.9.6"
  }
 },
 "nbformat": 4,
 "nbformat_minor": 5
}
